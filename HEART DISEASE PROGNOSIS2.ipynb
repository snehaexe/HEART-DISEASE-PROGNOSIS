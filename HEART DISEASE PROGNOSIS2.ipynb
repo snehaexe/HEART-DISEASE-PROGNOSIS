{
 "cells": [
  {
   "cell_type": "code",
   "execution_count": 1,
   "id": "cb8ec260",
   "metadata": {},
   "outputs": [
    {
     "data": {
      "text/html": [
       "        <script type=\"text/javascript\">\n",
       "        window.PlotlyConfig = {MathJaxConfig: 'local'};\n",
       "        if (window.MathJax) {MathJax.Hub.Config({SVG: {font: \"STIX-Web\"}});}\n",
       "        if (typeof require !== 'undefined') {\n",
       "        require.undef(\"plotly\");\n",
       "        requirejs.config({\n",
       "            paths: {\n",
       "                'plotly': ['https://cdn.plot.ly/plotly-latest.min']\n",
       "            }\n",
       "        });\n",
       "        require(['plotly'], function(Plotly) {\n",
       "            window._Plotly = Plotly;\n",
       "        });\n",
       "        }\n",
       "        </script>\n",
       "        "
      ]
     },
     "metadata": {},
     "output_type": "display_data"
    },
    {
     "data": {
      "text/plain": [
       "array([[63.,  1.,  3., ...,  0.,  1.,  1.],\n",
       "       [37.,  1.,  2., ...,  0.,  2.,  1.],\n",
       "       [41.,  0.,  1., ...,  0.,  2.,  1.],\n",
       "       ...,\n",
       "       [68.,  1.,  0., ...,  2.,  3.,  0.],\n",
       "       [57.,  1.,  0., ...,  1.,  3.,  0.],\n",
       "       [57.,  0.,  1., ...,  1.,  2.,  0.]])"
      ]
     },
     "execution_count": 1,
     "metadata": {},
     "output_type": "execute_result"
    }
   ],
   "source": [
    "import numpy as np\n",
    "import pandas as pd\n",
    "from sklearn.model_selection import train_test_split\n",
    "from sklearn.linear_model import LogisticRegression\n",
    "from sklearn.ensemble import RandomForestClassifier\n",
    "from sklearn.metrics import accuracy_score\n",
    "\n",
    "import plotly.offline as py\n",
    "from plotly.offline import init_notebook_mode, iplot\n",
    "import plotly.graph_objs as go\n",
    "init_notebook_mode(connected = True)\n",
    "\n",
    "\n",
    "hv = pd.read_csv('heart.csv')\n",
    "hv.describe()\n",
    "hv.values"
   ]
  },
  {
   "cell_type": "code",
   "execution_count": 2,
   "id": "6a6febfb",
   "metadata": {},
   "outputs": [
    {
     "data": {
      "text/plain": [
       "(303, 14)"
      ]
     },
     "execution_count": 2,
     "metadata": {},
     "output_type": "execute_result"
    }
   ],
   "source": [
    "# displaying the shape of the dataset\n",
    "hv.shape"
   ]
  },
  {
   "cell_type": "code",
   "execution_count": 3,
   "id": "4c0b78dd",
   "metadata": {},
   "outputs": [
    {
     "data": {
      "text/html": [
       "<div>\n",
       "<style scoped>\n",
       "    .dataframe tbody tr th:only-of-type {\n",
       "        vertical-align: middle;\n",
       "    }\n",
       "\n",
       "    .dataframe tbody tr th {\n",
       "        vertical-align: top;\n",
       "    }\n",
       "\n",
       "    .dataframe thead th {\n",
       "        text-align: right;\n",
       "    }\n",
       "</style>\n",
       "<table border=\"1\" class=\"dataframe\">\n",
       "  <thead>\n",
       "    <tr style=\"text-align: right;\">\n",
       "      <th></th>\n",
       "      <th>age</th>\n",
       "      <th>sex</th>\n",
       "      <th>cp</th>\n",
       "      <th>trestbps</th>\n",
       "      <th>chol</th>\n",
       "      <th>fbs</th>\n",
       "      <th>restecg</th>\n",
       "      <th>thalach</th>\n",
       "      <th>exang</th>\n",
       "      <th>oldpeak</th>\n",
       "      <th>slope</th>\n",
       "      <th>ca</th>\n",
       "      <th>thal</th>\n",
       "      <th>target</th>\n",
       "    </tr>\n",
       "  </thead>\n",
       "  <tbody>\n",
       "    <tr>\n",
       "      <th>count</th>\n",
       "      <td>303.000000</td>\n",
       "      <td>303.000000</td>\n",
       "      <td>303.000000</td>\n",
       "      <td>303.000000</td>\n",
       "      <td>303.000000</td>\n",
       "      <td>303.000000</td>\n",
       "      <td>303.000000</td>\n",
       "      <td>303.000000</td>\n",
       "      <td>303.000000</td>\n",
       "      <td>303.000000</td>\n",
       "      <td>303.000000</td>\n",
       "      <td>303.000000</td>\n",
       "      <td>303.000000</td>\n",
       "      <td>303.000000</td>\n",
       "    </tr>\n",
       "    <tr>\n",
       "      <th>mean</th>\n",
       "      <td>54.366337</td>\n",
       "      <td>0.683168</td>\n",
       "      <td>0.966997</td>\n",
       "      <td>131.623762</td>\n",
       "      <td>246.264026</td>\n",
       "      <td>0.148515</td>\n",
       "      <td>0.528053</td>\n",
       "      <td>149.646865</td>\n",
       "      <td>0.326733</td>\n",
       "      <td>1.039604</td>\n",
       "      <td>1.399340</td>\n",
       "      <td>0.729373</td>\n",
       "      <td>2.313531</td>\n",
       "      <td>0.544554</td>\n",
       "    </tr>\n",
       "    <tr>\n",
       "      <th>std</th>\n",
       "      <td>9.082101</td>\n",
       "      <td>0.466011</td>\n",
       "      <td>1.032052</td>\n",
       "      <td>17.538143</td>\n",
       "      <td>51.830751</td>\n",
       "      <td>0.356198</td>\n",
       "      <td>0.525860</td>\n",
       "      <td>22.905161</td>\n",
       "      <td>0.469794</td>\n",
       "      <td>1.161075</td>\n",
       "      <td>0.616226</td>\n",
       "      <td>1.022606</td>\n",
       "      <td>0.612277</td>\n",
       "      <td>0.498835</td>\n",
       "    </tr>\n",
       "    <tr>\n",
       "      <th>min</th>\n",
       "      <td>29.000000</td>\n",
       "      <td>0.000000</td>\n",
       "      <td>0.000000</td>\n",
       "      <td>94.000000</td>\n",
       "      <td>126.000000</td>\n",
       "      <td>0.000000</td>\n",
       "      <td>0.000000</td>\n",
       "      <td>71.000000</td>\n",
       "      <td>0.000000</td>\n",
       "      <td>0.000000</td>\n",
       "      <td>0.000000</td>\n",
       "      <td>0.000000</td>\n",
       "      <td>0.000000</td>\n",
       "      <td>0.000000</td>\n",
       "    </tr>\n",
       "    <tr>\n",
       "      <th>25%</th>\n",
       "      <td>47.500000</td>\n",
       "      <td>0.000000</td>\n",
       "      <td>0.000000</td>\n",
       "      <td>120.000000</td>\n",
       "      <td>211.000000</td>\n",
       "      <td>0.000000</td>\n",
       "      <td>0.000000</td>\n",
       "      <td>133.500000</td>\n",
       "      <td>0.000000</td>\n",
       "      <td>0.000000</td>\n",
       "      <td>1.000000</td>\n",
       "      <td>0.000000</td>\n",
       "      <td>2.000000</td>\n",
       "      <td>0.000000</td>\n",
       "    </tr>\n",
       "    <tr>\n",
       "      <th>50%</th>\n",
       "      <td>55.000000</td>\n",
       "      <td>1.000000</td>\n",
       "      <td>1.000000</td>\n",
       "      <td>130.000000</td>\n",
       "      <td>240.000000</td>\n",
       "      <td>0.000000</td>\n",
       "      <td>1.000000</td>\n",
       "      <td>153.000000</td>\n",
       "      <td>0.000000</td>\n",
       "      <td>0.800000</td>\n",
       "      <td>1.000000</td>\n",
       "      <td>0.000000</td>\n",
       "      <td>2.000000</td>\n",
       "      <td>1.000000</td>\n",
       "    </tr>\n",
       "    <tr>\n",
       "      <th>75%</th>\n",
       "      <td>61.000000</td>\n",
       "      <td>1.000000</td>\n",
       "      <td>2.000000</td>\n",
       "      <td>140.000000</td>\n",
       "      <td>274.500000</td>\n",
       "      <td>0.000000</td>\n",
       "      <td>1.000000</td>\n",
       "      <td>166.000000</td>\n",
       "      <td>1.000000</td>\n",
       "      <td>1.600000</td>\n",
       "      <td>2.000000</td>\n",
       "      <td>1.000000</td>\n",
       "      <td>3.000000</td>\n",
       "      <td>1.000000</td>\n",
       "    </tr>\n",
       "    <tr>\n",
       "      <th>max</th>\n",
       "      <td>77.000000</td>\n",
       "      <td>1.000000</td>\n",
       "      <td>3.000000</td>\n",
       "      <td>200.000000</td>\n",
       "      <td>564.000000</td>\n",
       "      <td>1.000000</td>\n",
       "      <td>2.000000</td>\n",
       "      <td>202.000000</td>\n",
       "      <td>1.000000</td>\n",
       "      <td>6.200000</td>\n",
       "      <td>2.000000</td>\n",
       "      <td>4.000000</td>\n",
       "      <td>3.000000</td>\n",
       "      <td>1.000000</td>\n",
       "    </tr>\n",
       "  </tbody>\n",
       "</table>\n",
       "</div>"
      ],
      "text/plain": [
       "              age         sex          cp    trestbps        chol         fbs  \\\n",
       "count  303.000000  303.000000  303.000000  303.000000  303.000000  303.000000   \n",
       "mean    54.366337    0.683168    0.966997  131.623762  246.264026    0.148515   \n",
       "std      9.082101    0.466011    1.032052   17.538143   51.830751    0.356198   \n",
       "min     29.000000    0.000000    0.000000   94.000000  126.000000    0.000000   \n",
       "25%     47.500000    0.000000    0.000000  120.000000  211.000000    0.000000   \n",
       "50%     55.000000    1.000000    1.000000  130.000000  240.000000    0.000000   \n",
       "75%     61.000000    1.000000    2.000000  140.000000  274.500000    0.000000   \n",
       "max     77.000000    1.000000    3.000000  200.000000  564.000000    1.000000   \n",
       "\n",
       "          restecg     thalach       exang     oldpeak       slope          ca  \\\n",
       "count  303.000000  303.000000  303.000000  303.000000  303.000000  303.000000   \n",
       "mean     0.528053  149.646865    0.326733    1.039604    1.399340    0.729373   \n",
       "std      0.525860   22.905161    0.469794    1.161075    0.616226    1.022606   \n",
       "min      0.000000   71.000000    0.000000    0.000000    0.000000    0.000000   \n",
       "25%      0.000000  133.500000    0.000000    0.000000    1.000000    0.000000   \n",
       "50%      1.000000  153.000000    0.000000    0.800000    1.000000    0.000000   \n",
       "75%      1.000000  166.000000    1.000000    1.600000    2.000000    1.000000   \n",
       "max      2.000000  202.000000    1.000000    6.200000    2.000000    4.000000   \n",
       "\n",
       "             thal      target  \n",
       "count  303.000000  303.000000  \n",
       "mean     2.313531    0.544554  \n",
       "std      0.612277    0.498835  \n",
       "min      0.000000    0.000000  \n",
       "25%      2.000000    0.000000  \n",
       "50%      2.000000    1.000000  \n",
       "75%      3.000000    1.000000  \n",
       "max      3.000000    1.000000  "
      ]
     },
     "execution_count": 3,
     "metadata": {},
     "output_type": "execute_result"
    }
   ],
   "source": [
    "# getting statistical measures for the data\n",
    "hv.describe()"
   ]
  },
  {
   "cell_type": "code",
   "execution_count": 4,
   "id": "58aea63d",
   "metadata": {},
   "outputs": [
    {
     "data": {
      "text/plain": [
       "array([[63.,  1.,  3., ...,  0.,  1.,  1.],\n",
       "       [37.,  1.,  2., ...,  0.,  2.,  1.],\n",
       "       [41.,  0.,  1., ...,  0.,  2.,  1.],\n",
       "       ...,\n",
       "       [68.,  1.,  0., ...,  2.,  3.,  0.],\n",
       "       [57.,  1.,  0., ...,  1.,  3.,  0.],\n",
       "       [57.,  0.,  1., ...,  1.,  2.,  0.]])"
      ]
     },
     "execution_count": 4,
     "metadata": {},
     "output_type": "execute_result"
    }
   ],
   "source": [
    "hv.values"
   ]
  },
  {
   "cell_type": "code",
   "execution_count": 5,
   "id": "4265979c",
   "metadata": {
    "scrolled": true
   },
   "outputs": [
    {
     "data": {
      "text/html": [
       "<div>\n",
       "<style scoped>\n",
       "    .dataframe tbody tr th:only-of-type {\n",
       "        vertical-align: middle;\n",
       "    }\n",
       "\n",
       "    .dataframe tbody tr th {\n",
       "        vertical-align: top;\n",
       "    }\n",
       "\n",
       "    .dataframe thead th {\n",
       "        text-align: right;\n",
       "    }\n",
       "</style>\n",
       "<table border=\"1\" class=\"dataframe\">\n",
       "  <thead>\n",
       "    <tr style=\"text-align: right;\">\n",
       "      <th></th>\n",
       "      <th>age</th>\n",
       "      <th>sex</th>\n",
       "      <th>cp</th>\n",
       "      <th>trestbps</th>\n",
       "      <th>chol</th>\n",
       "      <th>fbs</th>\n",
       "      <th>restecg</th>\n",
       "      <th>thalach</th>\n",
       "      <th>exang</th>\n",
       "      <th>oldpeak</th>\n",
       "      <th>slope</th>\n",
       "      <th>ca</th>\n",
       "      <th>thal</th>\n",
       "      <th>target</th>\n",
       "    </tr>\n",
       "  </thead>\n",
       "  <tbody>\n",
       "    <tr>\n",
       "      <th>0</th>\n",
       "      <td>63</td>\n",
       "      <td>1</td>\n",
       "      <td>3</td>\n",
       "      <td>145</td>\n",
       "      <td>233</td>\n",
       "      <td>1</td>\n",
       "      <td>0</td>\n",
       "      <td>150</td>\n",
       "      <td>0</td>\n",
       "      <td>2.3</td>\n",
       "      <td>0</td>\n",
       "      <td>0</td>\n",
       "      <td>1</td>\n",
       "      <td>1</td>\n",
       "    </tr>\n",
       "    <tr>\n",
       "      <th>1</th>\n",
       "      <td>37</td>\n",
       "      <td>1</td>\n",
       "      <td>2</td>\n",
       "      <td>130</td>\n",
       "      <td>250</td>\n",
       "      <td>0</td>\n",
       "      <td>1</td>\n",
       "      <td>187</td>\n",
       "      <td>0</td>\n",
       "      <td>3.5</td>\n",
       "      <td>0</td>\n",
       "      <td>0</td>\n",
       "      <td>2</td>\n",
       "      <td>1</td>\n",
       "    </tr>\n",
       "    <tr>\n",
       "      <th>2</th>\n",
       "      <td>41</td>\n",
       "      <td>0</td>\n",
       "      <td>1</td>\n",
       "      <td>130</td>\n",
       "      <td>204</td>\n",
       "      <td>0</td>\n",
       "      <td>0</td>\n",
       "      <td>172</td>\n",
       "      <td>0</td>\n",
       "      <td>1.4</td>\n",
       "      <td>2</td>\n",
       "      <td>0</td>\n",
       "      <td>2</td>\n",
       "      <td>1</td>\n",
       "    </tr>\n",
       "    <tr>\n",
       "      <th>3</th>\n",
       "      <td>56</td>\n",
       "      <td>1</td>\n",
       "      <td>1</td>\n",
       "      <td>120</td>\n",
       "      <td>236</td>\n",
       "      <td>0</td>\n",
       "      <td>1</td>\n",
       "      <td>178</td>\n",
       "      <td>0</td>\n",
       "      <td>0.8</td>\n",
       "      <td>2</td>\n",
       "      <td>0</td>\n",
       "      <td>2</td>\n",
       "      <td>1</td>\n",
       "    </tr>\n",
       "    <tr>\n",
       "      <th>4</th>\n",
       "      <td>57</td>\n",
       "      <td>0</td>\n",
       "      <td>0</td>\n",
       "      <td>120</td>\n",
       "      <td>354</td>\n",
       "      <td>0</td>\n",
       "      <td>1</td>\n",
       "      <td>163</td>\n",
       "      <td>1</td>\n",
       "      <td>0.6</td>\n",
       "      <td>2</td>\n",
       "      <td>0</td>\n",
       "      <td>2</td>\n",
       "      <td>1</td>\n",
       "    </tr>\n",
       "  </tbody>\n",
       "</table>\n",
       "</div>"
      ],
      "text/plain": [
       "   age  sex  cp  trestbps  chol  fbs  restecg  thalach  exang  oldpeak  slope  \\\n",
       "0   63    1   3       145   233    1        0      150      0      2.3      0   \n",
       "1   37    1   2       130   250    0        1      187      0      3.5      0   \n",
       "2   41    0   1       130   204    0        0      172      0      1.4      2   \n",
       "3   56    1   1       120   236    0        1      178      0      0.8      2   \n",
       "4   57    0   0       120   354    0        1      163      1      0.6      2   \n",
       "\n",
       "   ca  thal  target  \n",
       "0   0     1       1  \n",
       "1   0     2       1  \n",
       "2   0     2       1  \n",
       "3   0     2       1  \n",
       "4   0     2       1  "
      ]
     },
     "execution_count": 5,
     "metadata": {},
     "output_type": "execute_result"
    }
   ],
   "source": [
    "# displaying the first five rows of the heart dataset\n",
    "hv.head()"
   ]
  },
  {
   "cell_type": "code",
   "execution_count": 6,
   "id": "e7bed11f",
   "metadata": {},
   "outputs": [
    {
     "data": {
      "text/html": [
       "<div>\n",
       "<style scoped>\n",
       "    .dataframe tbody tr th:only-of-type {\n",
       "        vertical-align: middle;\n",
       "    }\n",
       "\n",
       "    .dataframe tbody tr th {\n",
       "        vertical-align: top;\n",
       "    }\n",
       "\n",
       "    .dataframe thead th {\n",
       "        text-align: right;\n",
       "    }\n",
       "</style>\n",
       "<table border=\"1\" class=\"dataframe\">\n",
       "  <thead>\n",
       "    <tr style=\"text-align: right;\">\n",
       "      <th></th>\n",
       "      <th>age</th>\n",
       "      <th>sex</th>\n",
       "      <th>cp</th>\n",
       "      <th>trestbps</th>\n",
       "      <th>chol</th>\n",
       "      <th>fbs</th>\n",
       "      <th>restecg</th>\n",
       "      <th>thalach</th>\n",
       "      <th>exang</th>\n",
       "      <th>oldpeak</th>\n",
       "      <th>slope</th>\n",
       "      <th>ca</th>\n",
       "      <th>thal</th>\n",
       "      <th>target</th>\n",
       "    </tr>\n",
       "  </thead>\n",
       "  <tbody>\n",
       "    <tr>\n",
       "      <th>298</th>\n",
       "      <td>57</td>\n",
       "      <td>0</td>\n",
       "      <td>0</td>\n",
       "      <td>140</td>\n",
       "      <td>241</td>\n",
       "      <td>0</td>\n",
       "      <td>1</td>\n",
       "      <td>123</td>\n",
       "      <td>1</td>\n",
       "      <td>0.2</td>\n",
       "      <td>1</td>\n",
       "      <td>0</td>\n",
       "      <td>3</td>\n",
       "      <td>0</td>\n",
       "    </tr>\n",
       "    <tr>\n",
       "      <th>299</th>\n",
       "      <td>45</td>\n",
       "      <td>1</td>\n",
       "      <td>3</td>\n",
       "      <td>110</td>\n",
       "      <td>264</td>\n",
       "      <td>0</td>\n",
       "      <td>1</td>\n",
       "      <td>132</td>\n",
       "      <td>0</td>\n",
       "      <td>1.2</td>\n",
       "      <td>1</td>\n",
       "      <td>0</td>\n",
       "      <td>3</td>\n",
       "      <td>0</td>\n",
       "    </tr>\n",
       "    <tr>\n",
       "      <th>300</th>\n",
       "      <td>68</td>\n",
       "      <td>1</td>\n",
       "      <td>0</td>\n",
       "      <td>144</td>\n",
       "      <td>193</td>\n",
       "      <td>1</td>\n",
       "      <td>1</td>\n",
       "      <td>141</td>\n",
       "      <td>0</td>\n",
       "      <td>3.4</td>\n",
       "      <td>1</td>\n",
       "      <td>2</td>\n",
       "      <td>3</td>\n",
       "      <td>0</td>\n",
       "    </tr>\n",
       "    <tr>\n",
       "      <th>301</th>\n",
       "      <td>57</td>\n",
       "      <td>1</td>\n",
       "      <td>0</td>\n",
       "      <td>130</td>\n",
       "      <td>131</td>\n",
       "      <td>0</td>\n",
       "      <td>1</td>\n",
       "      <td>115</td>\n",
       "      <td>1</td>\n",
       "      <td>1.2</td>\n",
       "      <td>1</td>\n",
       "      <td>1</td>\n",
       "      <td>3</td>\n",
       "      <td>0</td>\n",
       "    </tr>\n",
       "    <tr>\n",
       "      <th>302</th>\n",
       "      <td>57</td>\n",
       "      <td>0</td>\n",
       "      <td>1</td>\n",
       "      <td>130</td>\n",
       "      <td>236</td>\n",
       "      <td>0</td>\n",
       "      <td>0</td>\n",
       "      <td>174</td>\n",
       "      <td>0</td>\n",
       "      <td>0.0</td>\n",
       "      <td>1</td>\n",
       "      <td>1</td>\n",
       "      <td>2</td>\n",
       "      <td>0</td>\n",
       "    </tr>\n",
       "  </tbody>\n",
       "</table>\n",
       "</div>"
      ],
      "text/plain": [
       "     age  sex  cp  trestbps  chol  fbs  restecg  thalach  exang  oldpeak  \\\n",
       "298   57    0   0       140   241    0        1      123      1      0.2   \n",
       "299   45    1   3       110   264    0        1      132      0      1.2   \n",
       "300   68    1   0       144   193    1        1      141      0      3.4   \n",
       "301   57    1   0       130   131    0        1      115      1      1.2   \n",
       "302   57    0   1       130   236    0        0      174      0      0.0   \n",
       "\n",
       "     slope  ca  thal  target  \n",
       "298      1   0     3       0  \n",
       "299      1   0     3       0  \n",
       "300      1   2     3       0  \n",
       "301      1   1     3       0  \n",
       "302      1   1     2       0  "
      ]
     },
     "execution_count": 6,
     "metadata": {},
     "output_type": "execute_result"
    }
   ],
   "source": [
    "# displaying the last five rows of the heart dataset\n",
    "hv.tail()"
   ]
  },
  {
   "cell_type": "code",
   "execution_count": 8,
   "id": "1dd8dcbb",
   "metadata": {},
   "outputs": [
    {
     "data": {
      "text/html": [
       "        <script type=\"text/javascript\">\n",
       "        window.PlotlyConfig = {MathJaxConfig: 'local'};\n",
       "        if (window.MathJax) {MathJax.Hub.Config({SVG: {font: \"STIX-Web\"}});}\n",
       "        if (typeof require !== 'undefined') {\n",
       "        require.undef(\"plotly\");\n",
       "        requirejs.config({\n",
       "            paths: {\n",
       "                'plotly': ['https://cdn.plot.ly/plotly-latest.min']\n",
       "            }\n",
       "        });\n",
       "        require(['plotly'], function(Plotly) {\n",
       "            window._Plotly = Plotly;\n",
       "        });\n",
       "        }\n",
       "        </script>\n",
       "        "
      ]
     },
     "metadata": {},
     "output_type": "display_data"
    },
    {
     "data": {
      "application/vnd.plotly.v1+json": {
       "config": {
        "linkText": "Export to plot.ly",
        "plotlyServerURL": "https://plot.ly",
        "scrollzoom": true,
        "showLink": false
       },
       "data": [
        {
         "marker": {
          "color": [
           1
          ],
          "colorbar": {
           "title": {
            "text": "sex"
           }
          },
          "size": [
           0
          ],
          "sizemode": "area",
          "sizeref": 0.0006458333333333333
         },
         "mode": "markers",
         "text": [
          "1"
         ],
         "type": "scatter",
         "x": [
          130
         ],
         "y": [
          204
         ]
        }
       ],
       "frames": [
        {
         "data": [
          {
           "marker": {
            "color": [
             1,
             0,
             0,
             1,
             1,
             0,
             0,
             1,
             0
            ],
            "colorbar": {
             "title": {
              "text": "sex"
             }
            },
            "size": [
             2.3,
             0,
             0,
             1.4,
             1.8,
             4,
             1.8,
             4,
             0
            ],
            "sizemode": "area",
            "sizeref": 0.0006458333333333333
           },
           "mode": "markers",
           "text": [
            "1",
            "0",
            "0",
            "1",
            "1",
            "0",
            "0",
            "1",
            "0"
           ],
           "type": "scatter",
           "x": [
            145,
            135,
            140,
            130,
            130,
            150,
            108,
            140,
            124
           ],
           "y": [
            233,
            252,
            195,
            254,
            330,
            407,
            269,
            187,
            197
           ]
          }
         ],
         "name": "63"
        },
        {
         "data": [
          {
           "marker": {
            "color": [
             1,
             0
            ],
            "colorbar": {
             "title": {
              "text": "sex"
             }
            },
            "size": [
             3.5,
             0
            ],
            "sizemode": "area",
            "sizeref": 0.0006458333333333333
           },
           "mode": "markers",
           "text": [
            "1",
            "0"
           ],
           "type": "scatter",
           "x": [
            130,
            120
           ],
           "y": [
            250,
            215
           ]
          }
         ],
         "name": "37"
        },
        {
         "data": [
          {
           "marker": {
            "color": [
             0,
             0,
             1,
             1,
             1,
             0,
             1,
             0,
             1,
             1
            ],
            "colorbar": {
             "title": {
              "text": "sex"
             }
            },
            "size": [
             1.4,
             0,
             0,
             0,
             2,
             0,
             0,
             0,
             0,
             0
            ],
            "sizemode": "area",
            "sizeref": 0.0006458333333333333
           },
           "mode": "markers",
           "text": [
            "0",
            "0",
            "1",
            "1",
            "1",
            "0",
            "1",
            "0",
            "1",
            "1"
           ],
           "type": "scatter",
           "x": [
            130,
            105,
            135,
            112,
            130,
            112,
            110,
            126,
            120,
            110
           ],
           "y": [
            204,
            198,
            203,
            250,
            214,
            268,
            235,
            306,
            157,
            172
           ]
          }
         ],
         "name": "41"
        },
        {
         "data": [
          {
           "marker": {
            "color": [
             1,
             0,
             1,
             1,
             1,
             1,
             1,
             0,
             1,
             0,
             1
            ],
            "colorbar": {
             "title": {
              "text": "sex"
             }
            },
            "size": [
             0.8,
             1.3,
             1.9,
             0,
             0,
             0.6,
             1.2,
             4,
             2.1,
             1.9,
             1.6
            ],
            "sizemode": "area",
            "sizeref": 0.0006458333333333333
           },
           "mode": "markers",
           "text": [
            "1",
            "0",
            "1",
            "1",
            "1",
            "1",
            "1",
            "0",
            "1",
            "0",
            "1"
           ],
           "type": "scatter",
           "x": [
            120,
            140,
            120,
            130,
            120,
            130,
            125,
            200,
            132,
            134,
            130
           ],
           "y": [
            236,
            294,
            193,
            221,
            240,
            256,
            249,
            288,
            184,
            409,
            283
           ]
          }
         ],
         "name": "56"
        },
        {
         "data": [
          {
           "marker": {
            "color": [
             0,
             1,
             1,
             0,
             1,
             1,
             1,
             1,
             1,
             1,
             1,
             1,
             1,
             1,
             0,
             1,
             0
            ],
            "colorbar": {
             "title": {
              "text": "sex"
             }
            },
            "size": [
             0.6,
             0.4,
             1.6,
             0,
             0,
             0.2,
             1.5,
             0.6,
             0.4,
             1,
             1.2,
             0.3,
             0,
             3,
             0.2,
             1.2,
             0
            ],
            "sizemode": "area",
            "sizeref": 0.0006458333333333333
           },
           "mode": "markers",
           "text": [
            "0",
            "1",
            "1",
            "0",
            "1",
            "1",
            "1",
            "1",
            "1",
            "1",
            "1",
            "1",
            "1",
            "1",
            "0",
            "1",
            "0"
           ],
           "type": "scatter",
           "x": [
            120,
            140,
            150,
            128,
            132,
            150,
            110,
            150,
            128,
            165,
            152,
            124,
            154,
            110,
            140,
            130,
            130
           ],
           "y": [
            354,
            192,
            168,
            303,
            207,
            126,
            201,
            276,
            229,
            289,
            274,
            261,
            232,
            335,
            241,
            131,
            236
           ]
          }
         ],
         "name": "57"
        },
        {
         "data": [
          {
           "marker": {
            "color": [
             1,
             1,
             1,
             1,
             0,
             1,
             0,
             1,
             1,
             1,
             1
            ],
            "colorbar": {
             "title": {
              "text": "sex"
             }
            },
            "size": [
             0,
             0.4,
             0,
             0,
             0.6,
             0,
             0.3,
             0,
             0,
             0,
             2.8
            ],
            "sizemode": "area",
            "sizeref": 0.0006458333333333333
           },
           "mode": "markers",
           "text": [
            "1",
            "1",
            "1",
            "1",
            "0",
            "1",
            "0",
            "1",
            "1",
            "1",
            "1"
           ],
           "type": "scatter",
           "x": [
            120,
            130,
            130,
            140,
            108,
            120,
            118,
            120,
            112,
            110,
            120
           ],
           "y": [
            263,
            233,
            219,
            235,
            141,
            220,
            242,
            226,
            290,
            197,
            169
           ]
          }
         ],
         "name": "44"
        },
        {
         "data": [
          {
           "marker": {
            "color": [
             1,
             1,
             1,
             1,
             1,
             1,
             1,
             1,
             0,
             1,
             1,
             1,
             1
            ],
            "colorbar": {
             "title": {
              "text": "sex"
             }
            },
            "size": [
             0.5,
             0.2,
             0.8,
             0,
             0,
             1.2,
             0,
             0.1,
             0.1,
             0,
             0,
             1,
             1
            ],
            "sizemode": "area",
            "sizeref": 0.0006458333333333333
           },
           "mode": "markers",
           "text": [
            "1",
            "1",
            "1",
            "1",
            "1",
            "1",
            "1",
            "1",
            "0",
            "1",
            "1",
            "1",
            "1"
           ],
           "type": "scatter",
           "x": [
            172,
            120,
            134,
            118,
            128,
            152,
            138,
            108,
            136,
            128,
            112,
            125,
            128
           ],
           "y": [
            199,
            325,
            201,
            186,
            205,
            298,
            223,
            233,
            196,
            255,
            230,
            212,
            204
           ]
          }
         ],
         "name": "52"
        },
        {
         "data": [
          {
           "marker": {
            "color": [
             1,
             1,
             0,
             1,
             1,
             1,
             0,
             0,
             0,
             0,
             1,
             1,
             1,
             1,
             1,
             1
            ],
            "colorbar": {
             "title": {
              "text": "sex"
             }
            },
            "size": [
             1.2,
             0.5,
             0,
             1.6,
             0,
             0.4,
             1.6,
             0,
             0,
             0,
             2.2,
             1.4,
             2.8,
             0,
             0,
             3.2
            ],
            "sizemode": "area",
            "sizeref": 0.0006458333333333333
           },
           "mode": "markers",
           "text": [
            "1",
            "1",
            "0",
            "1",
            "1",
            "1",
            "0",
            "0",
            "0",
            "0",
            "1",
            "1",
            "1",
            "1",
            "1",
            "1"
           ],
           "type": "scatter",
           "x": [
            140,
            125,
            135,
            150,
            108,
            120,
            110,
            132,
            108,
            160,
            124,
            120,
            110,
            192,
            110,
            122
           ],
           "y": [
            239,
            273,
            304,
            232,
            309,
            258,
            214,
            288,
            267,
            201,
            266,
            188,
            239,
            283,
            206,
            286
           ]
          }
         ],
         "name": "54"
        },
        {
         "data": [
          {
           "marker": {
            "color": [
             0,
             1,
             1,
             1,
             1,
             1,
             1
            ],
            "colorbar": {
             "title": {
              "text": "sex"
             }
            },
            "size": [
             0.2,
             0.2,
             0,
             0,
             1,
             0,
             0.5
            ],
            "sizemode": "area",
            "sizeref": 0.0006458333333333333
           },
           "mode": "markers",
           "text": [
            "0",
            "1",
            "1",
            "1",
            "1",
            "1",
            "1"
           ],
           "type": "scatter",
           "x": [
            130,
            130,
            122,
            124,
            110,
            130,
            124
           ],
           "y": [
            275,
            245,
            222,
            255,
            229,
            256,
            274
           ]
          }
         ],
         "name": "48"
        },
        {
         "data": [
          {
           "marker": {
            "color": [
             1,
             0,
             0,
             1,
             1
            ],
            "colorbar": {
             "title": {
              "text": "sex"
             }
            },
            "size": [
             0.6,
             0,
             0,
             2,
             0.8
            ],
            "sizemode": "area",
            "sizeref": 0.0006458333333333333
           },
           "mode": "markers",
           "text": [
            "1",
            "0",
            "0",
            "1",
            "1"
           ],
           "type": "scatter",
           "x": [
            130,
            134,
            130,
            120,
            118
           ],
           "y": [
            266,
            271,
            269,
            188,
            149
           ]
          }
         ],
         "name": "49"
        },
        {
         "data": [
          {
           "marker": {
            "color": [
             1,
             0,
             0,
             0,
             1,
             1,
             1,
             1,
             1,
             1
            ],
            "colorbar": {
             "title": {
              "text": "sex"
             }
            },
            "size": [
             1.8,
             0,
             0.2,
             2,
             0.2,
             0.6,
             0,
             1.8,
             2.2,
             2
            ],
            "sizemode": "area",
            "sizeref": 0.0006458333333333333
           },
           "mode": "markers",
           "text": [
            "1",
            "0",
            "0",
            "0",
            "1",
            "1",
            "1",
            "1",
            "1",
            "1"
           ],
           "type": "scatter",
           "x": [
            110,
            180,
            140,
            130,
            128,
            170,
            140,
            125,
            120,
            145
           ],
           "y": [
            211,
            325,
            313,
            303,
            263,
            227,
            335,
            309,
            246,
            212
           ]
          }
         ],
         "name": "64"
        },
        {
         "data": [
          {
           "marker": {
            "color": [
             0,
             0,
             1,
             1,
             0,
             0,
             1,
             1,
             1,
             1,
             1,
             1,
             1,
             1,
             1,
             1,
             0,
             1,
             0
            ],
            "colorbar": {
             "title": {
              "text": "sex"
             }
            },
            "size": [
             1,
             0,
             0,
             0.6,
             1,
             0.6,
             0.4,
             1.8,
             3.2,
             2.5,
             2.2,
             0.8,
             0,
             3,
             0.1,
             2,
             0,
             4.4,
             2.8
            ],
            "sizemode": "area",
            "sizeref": 0.0006458333333333333
           },
           "mode": "markers",
           "text": [
            "0",
            "0",
            "1",
            "1",
            "0",
            "0",
            "1",
            "1",
            "1",
            "1",
            "1",
            "1",
            "1",
            "1",
            "1",
            "1",
            "0",
            "1",
            "0"
           ],
           "type": "scatter",
           "x": [
            150,
            120,
            140,
            105,
            100,
            130,
            125,
            120,
            132,
            112,
            128,
            150,
            125,
            128,
            100,
            146,
            136,
            114,
            170
           ],
           "y": [
            283,
            340,
            211,
            240,
            248,
            197,
            220,
            284,
            224,
            230,
            216,
            270,
            300,
            259,
            234,
            218,
            319,
            318,
            225
           ]
          }
         ],
         "name": "58"
        },
        {
         "data": [
          {
           "marker": {
            "color": [
             0,
             1,
             0,
             0,
             1,
             1,
             1
            ],
            "colorbar": {
             "title": {
              "text": "sex"
             }
            },
            "size": [
             1.6,
             0,
             1.1,
             0,
             2.6,
             0.6,
             0.9
            ],
            "sizemode": "area",
            "sizeref": 0.0006458333333333333
           },
           "mode": "markers",
           "text": [
            "0",
            "1",
            "0",
            "0",
            "1",
            "1",
            "1"
           ],
           "type": "scatter",
           "x": [
            120,
            129,
            120,
            110,
            150,
            140,
            144
           ],
           "y": [
            219,
            196,
            244,
            254,
            243,
            233,
            200
           ]
          }
         ],
         "name": "50"
        },
        {
         "data": [
          {
           "marker": {
            "color": [
             0,
             1,
             1,
             0,
             1,
             0,
             1
            ],
            "colorbar": {
             "title": {
              "text": "sex"
             }
            },
            "size": [
             2.6,
             0.4,
             2.3,
             0,
             0,
             1,
             0.1
            ],
            "sizemode": "area",
            "sizeref": 0.0006458333333333333
           },
           "mode": "markers",
           "text": [
            "0",
            "1",
            "1",
            "0",
            "1",
            "0",
            "1"
           ],
           "type": "scatter",
           "x": [
            150,
            120,
            160,
            146,
            160,
            178,
            112
           ],
           "y": [
            226,
            302,
            228,
            278,
            246,
            228,
            212
           ]
          }
         ],
         "name": "66"
        },
        {
         "data": [
          {
           "marker": {
            "color": [
             1,
             0,
             1,
             1,
             1,
             1,
             0,
             1
            ],
            "colorbar": {
             "title": {
              "text": "sex"
             }
            },
            "size": [
             1.5,
             0.2,
             1.9,
             0,
             1.2,
             2.5,
             3,
             0.1
            ],
            "sizemode": "area",
            "sizeref": 0.0006458333333333333
           },
           "mode": "markers",
           "text": [
            "1",
            "0",
            "1",
            "1",
            "1",
            "1",
            "0",
            "1"
           ],
           "type": "scatter",
           "x": [
            150,
            122,
            130,
            110,
            115,
            120,
            132,
            132
           ],
           "y": [
            247,
            213,
            315,
            211,
            303,
            177,
            341,
            247
           ]
          }
         ],
         "name": "43"
        },
        {
         "data": [
          {
           "marker": {
            "color": [
             0,
             1,
             1
            ],
            "colorbar": {
             "title": {
              "text": "sex"
             }
            },
            "size": [
             1.8,
             0.1,
             2
            ],
            "sizemode": "area",
            "sizeref": 0.0006458333333333333
           },
           "mode": "markers",
           "text": [
            "0",
            "1",
            "1"
           ],
           "type": "scatter",
           "x": [
            140,
            160,
            140
           ],
           "y": [
            239,
            234,
            254
           ]
          }
         ],
         "name": "69"
        },
        {
         "data": [
          {
           "marker": {
            "color": [
             1,
             1,
             1,
             1,
             1,
             1,
             1,
             1,
             1,
             0,
             1,
             1,
             1,
             1
            ],
            "colorbar": {
             "title": {
              "text": "sex"
             }
            },
            "size": [
             0.5,
             1.6,
             0,
             4.2,
             0,
             3.4,
             1.2,
             0,
             0.2,
             0,
             0,
             2.2,
             0.8,
             1
            ],
            "sizemode": "area",
            "sizeref": 0.0006458333333333333
           },
           "mode": "markers",
           "text": [
            "1",
            "1",
            "1",
            "1",
            "1",
            "1",
            "1",
            "1",
            "1",
            "0",
            "1",
            "1",
            "1",
            "1"
           ],
           "type": "scatter",
           "x": [
            135,
            150,
            140,
            178,
            138,
            170,
            110,
            140,
            170,
            174,
            160,
            126,
            134,
            164
           ],
           "y": [
            234,
            212,
            221,
            270,
            271,
            326,
            239,
            177,
            288,
            249,
            273,
            218,
            204,
            176
           ]
          }
         ],
         "name": "59"
        },
        {
         "data": [
          {
           "marker": {
            "color": [
             1,
             0,
             1,
             1,
             1,
             0,
             1,
             1
            ],
            "colorbar": {
             "title": {
              "text": "sex"
             }
            },
            "size": [
             0,
             0.6,
             0.8,
             0.8,
             0,
             0,
             0,
             1.8
            ],
            "sizemode": "area",
            "sizeref": 0.0006458333333333333
           },
           "mode": "markers",
           "text": [
            "1",
            "0",
            "1",
            "1",
            "1",
            "0",
            "1",
            "1"
           ],
           "type": "scatter",
           "x": [
            140,
            102,
            148,
            120,
            120,
            120,
            130,
            136
           ],
           "y": [
            226,
            265,
            244,
            240,
            295,
            209,
            180,
            315
           ]
          }
         ],
         "name": "42"
        },
        {
         "data": [
          {
           "marker": {
            "color": [
             1,
             0,
             1,
             0,
             1,
             1,
             1,
             1
            ],
            "colorbar": {
             "title": {
              "text": "sex"
             }
            },
            "size": [
             1,
             0,
             3.6,
             1,
             2.6,
             3.6,
             1.9,
             0
            ],
            "sizemode": "area",
            "sizeref": 0.0006458333333333333
           },
           "mode": "markers",
           "text": [
            "1",
            "0",
            "1",
            "0",
            "1",
            "1",
            "1",
            "1"
           ],
           "type": "scatter",
           "x": [
            150,
            130,
            120,
            145,
            134,
            138,
            140,
            148
           ],
           "y": [
            243,
            330,
            260,
            307,
            234,
            166,
            207,
            203
           ]
          }
         ],
         "name": "61"
        },
        {
         "data": [
          {
           "marker": {
            "color": [
             1,
             1,
             1
            ],
            "colorbar": {
             "title": {
              "text": "sex"
             }
            },
            "size": [
             1.4,
             2,
             0
            ],
            "sizemode": "area",
            "sizeref": 0.0006458333333333333
           },
           "mode": "markers",
           "text": [
            "1",
            "1",
            "1"
           ],
           "type": "scatter",
           "x": [
            140,
            110,
            152
           ],
           "y": [
            199,
            167,
            223
           ]
          }
         ],
         "name": "40"
        },
        {
         "data": [
          {
           "marker": {
            "color": [
             0,
             0,
             0
            ],
            "colorbar": {
             "title": {
              "text": "sex"
             }
            },
            "size": [
             0.4,
             0,
             1.6
            ],
            "sizemode": "area",
            "sizeref": 0.0006458333333333333
           },
           "mode": "markers",
           "text": [
            "0",
            "0",
            "0"
           ],
           "type": "scatter",
           "x": [
            160,
            110,
            112
           ],
           "y": [
            302,
            265,
            149
           ]
          }
         ],
         "name": "71"
        },
        {
         "data": [
          {
           "marker": {
            "color": [
             1,
             1,
             0,
             0,
             1,
             1,
             1,
             1,
             0,
             0,
             1,
             1
            ],
            "colorbar": {
             "title": {
              "text": "sex"
             }
            },
            "size": [
             0.6,
             1.4,
             1.5,
             0.5,
             1.2,
             0,
             0,
             2.4,
             0.6,
             1.2,
             1.6,
             4.2
            ],
            "sizemode": "area",
            "sizeref": 0.0006458333333333333
           },
           "mode": "markers",
           "text": [
            "1",
            "1",
            "0",
            "0",
            "1",
            "1",
            "1",
            "1",
            "0",
            "0",
            "1",
            "1"
           ],
           "type": "scatter",
           "x": [
            110,
            125,
            140,
            130,
            100,
            94,
            140,
            125,
            120,
            130,
            140,
            140
           ],
           "y": [
            175,
            213,
            308,
            256,
            222,
            227,
            261,
            245,
            295,
            305,
            299,
            298
           ]
          }
         ],
         "name": "51"
        },
        {
         "data": [
          {
           "marker": {
            "color": [
             0,
             1,
             0,
             0,
             0,
             1,
             1,
             1
            ],
            "colorbar": {
             "title": {
              "text": "sex"
             }
            },
            "size": [
             0.8,
             0.4,
             0.8,
             0.8,
             1,
             0.6,
             2.8,
             1.4
            ],
            "sizemode": "area",
            "sizeref": 0.0006458333333333333
           },
           "mode": "markers",
           "text": [
            "0",
            "1",
            "0",
            "0",
            "0",
            "1",
            "1",
            "1"
           ],
           "type": "scatter",
           "x": [
            140,
            120,
            155,
            160,
            150,
            110,
            135,
            138
           ],
           "y": [
            417,
            177,
            269,
            360,
            225,
            248,
            254,
            282
           ]
          }
         ],
         "name": "65"
        },
        {
         "data": [
          {
           "marker": {
            "color": [
             1,
             0,
             0,
             0,
             1,
             1,
             1,
             1
            ],
            "colorbar": {
             "title": {
              "text": "sex"
             }
            },
            "size": [
             1.2,
             0.4,
             0,
             0,
             0,
             0,
             3.1,
             2
            ],
            "sizemode": "area",
            "sizeref": 0.0006458333333333333
           },
           "mode": "markers",
           "text": [
            "1",
            "0",
            "0",
            "0",
            "1",
            "1",
            "1",
            "1"
           ],
           "type": "scatter",
           "x": [
            130,
            130,
            128,
            138,
            142,
            130,
            140,
            123
           ],
           "y": [
            197,
            264,
            216,
            234,
            226,
            246,
            203,
            282
           ]
          }
         ],
         "name": "53"
        },
        {
         "data": [
          {
           "marker": {
            "color": [
             0,
             1,
             0,
             0,
             1,
             1,
             1
            ],
            "colorbar": {
             "title": {
              "text": "sex"
             }
            },
            "size": [
             1.4,
             0,
             0,
             0,
             3.6,
             0.8,
             1.8
            ],
            "sizemode": "area",
            "sizeref": 0.0006458333333333333
           },
           "mode": "markers",
           "text": [
            "0",
            "1",
            "0",
            "0",
            "1",
            "1",
            "1"
           ],
           "type": "scatter",
           "x": [
            142,
            101,
            105,
            138,
            150,
            120,
            140
           ],
           "y": [
            177,
            197,
            204,
            243,
            231,
            249,
            311
           ]
          }
         ],
         "name": "46"
        },
        {
         "data": [
          {
           "marker": {
            "color": [
             1,
             1,
             0,
             1,
             0,
             0,
             1,
             1
            ],
            "colorbar": {
             "title": {
              "text": "sex"
             }
            },
            "size": [
             3,
             0,
             0.6,
             0,
             0,
             0.2,
             0,
             1.2
            ],
            "sizemode": "area",
            "sizeref": 0.0006458333333333333
           },
           "mode": "markers",
           "text": [
            "1",
            "1",
            "0",
            "1",
            "0",
            "0",
            "1",
            "1"
           ],
           "type": "scatter",
           "x": [
            104,
            115,
            130,
            128,
            112,
            138,
            142,
            110
           ],
           "y": [
            208,
            260,
            234,
            308,
            160,
            236,
            309,
            264
           ]
          }
         ],
         "name": "45"
        },
        {
         "data": [
          {
           "marker": {
            "color": [
             1,
             0,
             0,
             1
            ],
            "colorbar": {
             "title": {
              "text": "sex"
             }
            },
            "size": [
             0,
             0,
             0,
             1.2
            ],
            "sizemode": "area",
            "sizeref": 0.0006458333333333333
           },
           "mode": "markers",
           "text": [
            "1",
            "0",
            "0",
            "1"
           ],
           "type": "scatter",
           "x": [
            140,
            94,
            138,
            118
           ],
           "y": [
            321,
            199,
            220,
            219
           ]
          }
         ],
         "name": "39"
        },
        {
         "data": [
          {
           "marker": {
            "color": [
             1,
             1,
             1,
             1,
             1
            ],
            "colorbar": {
             "title": {
              "text": "sex"
             }
            },
            "size": [
             0,
             0.1,
             0,
             0,
             1
            ],
            "sizemode": "area",
            "sizeref": 0.0006458333333333333
           },
           "mode": "markers",
           "text": [
            "1",
            "1",
            "1",
            "1",
            "1"
           ],
           "type": "scatter",
           "x": [
            138,
            112,
            130,
            108,
            110
           ],
           "y": [
            257,
            204,
            253,
            243,
            275
           ]
          }
         ],
         "name": "47"
        },
        {
         "data": [
          {
           "marker": {
            "color": [
             1,
             0,
             0,
             1,
             0,
             1,
             0,
             0,
             1,
             0,
             0
            ],
            "colorbar": {
             "title": {
              "text": "sex"
             }
            },
            "size": [
             1.8,
             0,
             1.2,
             0,
             3.6,
             1.8,
             6.2,
             1.2,
             1.4,
             1.9,
             1.4
            ],
            "sizemode": "area",
            "sizeref": 0.0006458333333333333
           },
           "mode": "markers",
           "text": [
            "1",
            "0",
            "0",
            "1",
            "0",
            "1",
            "0",
            "0",
            "1",
            "0",
            "0"
           ],
           "type": "scatter",
           "x": [
            130,
            124,
            140,
            128,
            140,
            120,
            160,
            130,
            120,
            138,
            150
           ],
           "y": [
            231,
            209,
            394,
            208,
            268,
            267,
            164,
            263,
            281,
            294,
            244
           ]
          }
         ],
         "name": "62"
        },
        {
         "data": [
          {
           "marker": {
            "color": [
             1,
             0
            ],
            "colorbar": {
             "title": {
              "text": "sex"
             }
            },
            "size": [
             0,
             0.7
            ],
            "sizemode": "area",
            "sizeref": 0.0006458333333333333
           },
           "mode": "markers",
           "text": [
            "1",
            "0"
           ],
           "type": "scatter",
           "x": [
            118,
            118
           ],
           "y": [
            182,
            210
           ]
          }
         ],
         "name": "34"
        },
        {
         "data": [
          {
           "marker": {
            "color": [
             0,
             1,
             1,
             1
            ],
            "colorbar": {
             "title": {
              "text": "sex"
             }
            },
            "size": [
             1.4,
             0,
             1.6,
             0
            ],
            "sizemode": "area",
            "sizeref": 0.0006458333333333333
           },
           "mode": "markers",
           "text": [
            "0",
            "1",
            "1",
            "1"
           ],
           "type": "scatter",
           "x": [
            138,
            122,
            120,
            126
           ],
           "y": [
            183,
            192,
            198,
            282
           ]
          }
         ],
         "name": "35"
        },
        {
         "data": [
          {
           "marker": {
            "color": [
             1
            ],
            "colorbar": {
             "title": {
              "text": "sex"
             }
            },
            "size": [
             0
            ],
            "sizemode": "area",
            "sizeref": 0.0006458333333333333
           },
           "mode": "markers",
           "text": [
            "1"
           ],
           "type": "scatter",
           "x": [
            130
           ],
           "y": [
            204
           ]
          }
         ],
         "name": "29"
        },
        {
         "data": [
          {
           "marker": {
            "color": [
             0,
             1,
             0,
             1,
             1,
             1,
             0,
             0
            ],
            "colorbar": {
             "title": {
              "text": "sex"
             }
            },
            "size": [
             1.4,
             0,
             1.2,
             1.2,
             5.6,
             0.8,
             3.4,
             2
            ],
            "sizemode": "area",
            "sizeref": 0.0006458333333333333
           },
           "mode": "markers",
           "text": [
            "0",
            "1",
            "0",
            "1",
            "1",
            "1",
            "0",
            "0"
           ],
           "type": "scatter",
           "x": [
            135,
            130,
            132,
            132,
            140,
            160,
            180,
            128
           ],
           "y": [
            250,
            262,
            342,
            353,
            217,
            289,
            327,
            205
           ]
          }
         ],
         "name": "55"
        },
        {
         "data": [
          {
           "marker": {
            "color": [
             0,
             0,
             0,
             1,
             1,
             1,
             1,
             1,
             1,
             0,
             1
            ],
            "colorbar": {
             "title": {
              "text": "sex"
             }
            },
            "size": [
             0,
             0,
             0.9,
             2.4,
             1.4,
             1.4,
             2.8,
             3,
             2.8,
             2.6,
             1.2
            ],
            "sizemode": "area",
            "sizeref": 0.0006458333333333333
           },
           "mode": "markers",
           "text": [
            "0",
            "0",
            "0",
            "1",
            "1",
            "1",
            "1",
            "1",
            "1",
            "0",
            "1"
           ],
           "type": "scatter",
           "x": [
            102,
            120,
            150,
            130,
            117,
            130,
            145,
            140,
            125,
            150,
            140
           ],
           "y": [
            318,
            178,
            240,
            206,
            230,
            253,
            282,
            185,
            258,
            258,
            293
           ]
          }
         ],
         "name": "60"
        },
        {
         "data": [
          {
           "marker": {
            "color": [
             0,
             0,
             0,
             1,
             1,
             1,
             1,
             1,
             1
            ],
            "colorbar": {
             "title": {
              "text": "sex"
             }
            },
            "size": [
             1.6,
             0,
             0.3,
             1.5,
             2.6,
             0.2,
             0.9,
             1,
             0.8
            ],
            "sizemode": "area",
            "sizeref": 0.0006458333333333333
           },
           "mode": "markers",
           "text": [
            "0",
            "0",
            "0",
            "1",
            "1",
            "1",
            "1",
            "1",
            "1"
           ],
           "type": "scatter",
           "x": [
            115,
            152,
            106,
            160,
            120,
            125,
            100,
            120,
            152
           ],
           "y": [
            564,
            277,
            223,
            286,
            229,
            254,
            299,
            237,
            212
           ]
          }
         ],
         "name": "67"
        },
        {
         "data": [
          {
           "marker": {
            "color": [
             1,
             0,
             1,
             1
            ],
            "colorbar": {
             "title": {
              "text": "sex"
             }
            },
            "size": [
             1,
             1.5,
             1.6,
             3.4
            ],
            "sizemode": "area",
            "sizeref": 0.0006458333333333333
           },
           "mode": "markers",
           "text": [
            "1",
            "0",
            "1",
            "1"
           ],
           "type": "scatter",
           "x": [
            118,
            120,
            180,
            144
           ],
           "y": [
            277,
            211,
            274,
            193
           ]
          }
         ],
         "name": "68"
        },
        {
         "data": [
          {
           "marker": {
            "color": [
             0
            ],
            "colorbar": {
             "title": {
              "text": "sex"
             }
            },
            "size": [
             0.2
            ],
            "sizemode": "area",
            "sizeref": 0.0006458333333333333
           },
           "mode": "markers",
           "text": [
            "0"
           ],
           "type": "scatter",
           "x": [
            120
           ],
           "y": [
            269
           ]
          }
         ],
         "name": "74"
        },
        {
         "data": [
          {
           "marker": {
            "color": [
             0
            ],
            "colorbar": {
             "title": {
              "text": "sex"
             }
            },
            "size": [
             1.1
            ],
            "sizemode": "area",
            "sizeref": 0.0006458333333333333
           },
           "mode": "markers",
           "text": [
            "0"
           ],
           "type": "scatter",
           "x": [
            140
           ],
           "y": [
            197
           ]
          }
         ],
         "name": "76"
        },
        {
         "data": [
          {
           "marker": {
            "color": [
             1,
             1,
             1,
             1
            ],
            "colorbar": {
             "title": {
              "text": "sex"
             }
            },
            "size": [
             0,
             2.6,
             2.4,
             2.9
            ],
            "sizemode": "area",
            "sizeref": 0.0006458333333333333
           },
           "mode": "markers",
           "text": [
            "1",
            "1",
            "1",
            "1"
           ],
           "type": "scatter",
           "x": [
            156,
            145,
            130,
            160
           ],
           "y": [
            245,
            174,
            322,
            269
           ]
          }
         ],
         "name": "70"
        },
        {
         "data": [
          {
           "marker": {
            "color": [
             1,
             1,
             1
            ],
            "colorbar": {
             "title": {
              "text": "sex"
             }
            },
            "size": [
             0,
             0,
             3.8
            ],
            "sizemode": "area",
            "sizeref": 0.0006458333333333333
           },
           "mode": "markers",
           "text": [
            "1",
            "1",
            "1"
           ],
           "type": "scatter",
           "x": [
            138,
            138,
            120
           ],
           "y": [
            175,
            175,
            231
           ]
          }
         ],
         "name": "38"
        },
        {
         "data": [
          {
           "marker": {
            "color": [
             1
            ],
            "colorbar": {
             "title": {
              "text": "sex"
             }
            },
            "size": [
             0
            ],
            "sizemode": "area",
            "sizeref": 0.0006458333333333333
           },
           "mode": "markers",
           "text": [
            "1"
           ],
           "type": "scatter",
           "x": [
            125
           ],
           "y": [
            304
           ]
          }
         ],
         "name": "77"
        }
       ],
       "layout": {
        "height": 650,
        "hovermode": "closest",
        "margin": {
         "b": 50,
         "pad": 5,
         "t": 50
        },
        "showlegend": false,
        "sliders": [
         {
          "active": 0,
          "currentvalue": {
           "font": {
            "size": 20
           },
           "prefix": "Year:",
           "visible": true,
           "xanchor": "right"
          },
          "len": 0.9,
          "pad": {
           "b": 10,
           "t": 50
          },
          "steps": [
           {
            "args": [
             [
              63
             ],
             {
              "frame": {
               "duration": 300,
               "redraw": false
              },
              "mode": "immediate",
              "transition": {
               "duration": 300
              }
             }
            ],
            "label": "63",
            "method": "animate"
           },
           {
            "args": [
             [
              37
             ],
             {
              "frame": {
               "duration": 300,
               "redraw": false
              },
              "mode": "immediate",
              "transition": {
               "duration": 300
              }
             }
            ],
            "label": "37",
            "method": "animate"
           },
           {
            "args": [
             [
              41
             ],
             {
              "frame": {
               "duration": 300,
               "redraw": false
              },
              "mode": "immediate",
              "transition": {
               "duration": 300
              }
             }
            ],
            "label": "41",
            "method": "animate"
           },
           {
            "args": [
             [
              56
             ],
             {
              "frame": {
               "duration": 300,
               "redraw": false
              },
              "mode": "immediate",
              "transition": {
               "duration": 300
              }
             }
            ],
            "label": "56",
            "method": "animate"
           },
           {
            "args": [
             [
              57
             ],
             {
              "frame": {
               "duration": 300,
               "redraw": false
              },
              "mode": "immediate",
              "transition": {
               "duration": 300
              }
             }
            ],
            "label": "57",
            "method": "animate"
           },
           {
            "args": [
             [
              44
             ],
             {
              "frame": {
               "duration": 300,
               "redraw": false
              },
              "mode": "immediate",
              "transition": {
               "duration": 300
              }
             }
            ],
            "label": "44",
            "method": "animate"
           },
           {
            "args": [
             [
              52
             ],
             {
              "frame": {
               "duration": 300,
               "redraw": false
              },
              "mode": "immediate",
              "transition": {
               "duration": 300
              }
             }
            ],
            "label": "52",
            "method": "animate"
           },
           {
            "args": [
             [
              54
             ],
             {
              "frame": {
               "duration": 300,
               "redraw": false
              },
              "mode": "immediate",
              "transition": {
               "duration": 300
              }
             }
            ],
            "label": "54",
            "method": "animate"
           },
           {
            "args": [
             [
              48
             ],
             {
              "frame": {
               "duration": 300,
               "redraw": false
              },
              "mode": "immediate",
              "transition": {
               "duration": 300
              }
             }
            ],
            "label": "48",
            "method": "animate"
           },
           {
            "args": [
             [
              49
             ],
             {
              "frame": {
               "duration": 300,
               "redraw": false
              },
              "mode": "immediate",
              "transition": {
               "duration": 300
              }
             }
            ],
            "label": "49",
            "method": "animate"
           },
           {
            "args": [
             [
              64
             ],
             {
              "frame": {
               "duration": 300,
               "redraw": false
              },
              "mode": "immediate",
              "transition": {
               "duration": 300
              }
             }
            ],
            "label": "64",
            "method": "animate"
           },
           {
            "args": [
             [
              58
             ],
             {
              "frame": {
               "duration": 300,
               "redraw": false
              },
              "mode": "immediate",
              "transition": {
               "duration": 300
              }
             }
            ],
            "label": "58",
            "method": "animate"
           },
           {
            "args": [
             [
              50
             ],
             {
              "frame": {
               "duration": 300,
               "redraw": false
              },
              "mode": "immediate",
              "transition": {
               "duration": 300
              }
             }
            ],
            "label": "50",
            "method": "animate"
           },
           {
            "args": [
             [
              66
             ],
             {
              "frame": {
               "duration": 300,
               "redraw": false
              },
              "mode": "immediate",
              "transition": {
               "duration": 300
              }
             }
            ],
            "label": "66",
            "method": "animate"
           },
           {
            "args": [
             [
              43
             ],
             {
              "frame": {
               "duration": 300,
               "redraw": false
              },
              "mode": "immediate",
              "transition": {
               "duration": 300
              }
             }
            ],
            "label": "43",
            "method": "animate"
           },
           {
            "args": [
             [
              69
             ],
             {
              "frame": {
               "duration": 300,
               "redraw": false
              },
              "mode": "immediate",
              "transition": {
               "duration": 300
              }
             }
            ],
            "label": "69",
            "method": "animate"
           },
           {
            "args": [
             [
              59
             ],
             {
              "frame": {
               "duration": 300,
               "redraw": false
              },
              "mode": "immediate",
              "transition": {
               "duration": 300
              }
             }
            ],
            "label": "59",
            "method": "animate"
           },
           {
            "args": [
             [
              42
             ],
             {
              "frame": {
               "duration": 300,
               "redraw": false
              },
              "mode": "immediate",
              "transition": {
               "duration": 300
              }
             }
            ],
            "label": "42",
            "method": "animate"
           },
           {
            "args": [
             [
              61
             ],
             {
              "frame": {
               "duration": 300,
               "redraw": false
              },
              "mode": "immediate",
              "transition": {
               "duration": 300
              }
             }
            ],
            "label": "61",
            "method": "animate"
           },
           {
            "args": [
             [
              40
             ],
             {
              "frame": {
               "duration": 300,
               "redraw": false
              },
              "mode": "immediate",
              "transition": {
               "duration": 300
              }
             }
            ],
            "label": "40",
            "method": "animate"
           },
           {
            "args": [
             [
              71
             ],
             {
              "frame": {
               "duration": 300,
               "redraw": false
              },
              "mode": "immediate",
              "transition": {
               "duration": 300
              }
             }
            ],
            "label": "71",
            "method": "animate"
           },
           {
            "args": [
             [
              51
             ],
             {
              "frame": {
               "duration": 300,
               "redraw": false
              },
              "mode": "immediate",
              "transition": {
               "duration": 300
              }
             }
            ],
            "label": "51",
            "method": "animate"
           },
           {
            "args": [
             [
              65
             ],
             {
              "frame": {
               "duration": 300,
               "redraw": false
              },
              "mode": "immediate",
              "transition": {
               "duration": 300
              }
             }
            ],
            "label": "65",
            "method": "animate"
           },
           {
            "args": [
             [
              53
             ],
             {
              "frame": {
               "duration": 300,
               "redraw": false
              },
              "mode": "immediate",
              "transition": {
               "duration": 300
              }
             }
            ],
            "label": "53",
            "method": "animate"
           },
           {
            "args": [
             [
              46
             ],
             {
              "frame": {
               "duration": 300,
               "redraw": false
              },
              "mode": "immediate",
              "transition": {
               "duration": 300
              }
             }
            ],
            "label": "46",
            "method": "animate"
           },
           {
            "args": [
             [
              45
             ],
             {
              "frame": {
               "duration": 300,
               "redraw": false
              },
              "mode": "immediate",
              "transition": {
               "duration": 300
              }
             }
            ],
            "label": "45",
            "method": "animate"
           },
           {
            "args": [
             [
              39
             ],
             {
              "frame": {
               "duration": 300,
               "redraw": false
              },
              "mode": "immediate",
              "transition": {
               "duration": 300
              }
             }
            ],
            "label": "39",
            "method": "animate"
           },
           {
            "args": [
             [
              47
             ],
             {
              "frame": {
               "duration": 300,
               "redraw": false
              },
              "mode": "immediate",
              "transition": {
               "duration": 300
              }
             }
            ],
            "label": "47",
            "method": "animate"
           },
           {
            "args": [
             [
              62
             ],
             {
              "frame": {
               "duration": 300,
               "redraw": false
              },
              "mode": "immediate",
              "transition": {
               "duration": 300
              }
             }
            ],
            "label": "62",
            "method": "animate"
           },
           {
            "args": [
             [
              34
             ],
             {
              "frame": {
               "duration": 300,
               "redraw": false
              },
              "mode": "immediate",
              "transition": {
               "duration": 300
              }
             }
            ],
            "label": "34",
            "method": "animate"
           },
           {
            "args": [
             [
              35
             ],
             {
              "frame": {
               "duration": 300,
               "redraw": false
              },
              "mode": "immediate",
              "transition": {
               "duration": 300
              }
             }
            ],
            "label": "35",
            "method": "animate"
           },
           {
            "args": [
             [
              29
             ],
             {
              "frame": {
               "duration": 300,
               "redraw": false
              },
              "mode": "immediate",
              "transition": {
               "duration": 300
              }
             }
            ],
            "label": "29",
            "method": "animate"
           },
           {
            "args": [
             [
              55
             ],
             {
              "frame": {
               "duration": 300,
               "redraw": false
              },
              "mode": "immediate",
              "transition": {
               "duration": 300
              }
             }
            ],
            "label": "55",
            "method": "animate"
           },
           {
            "args": [
             [
              60
             ],
             {
              "frame": {
               "duration": 300,
               "redraw": false
              },
              "mode": "immediate",
              "transition": {
               "duration": 300
              }
             }
            ],
            "label": "60",
            "method": "animate"
           },
           {
            "args": [
             [
              67
             ],
             {
              "frame": {
               "duration": 300,
               "redraw": false
              },
              "mode": "immediate",
              "transition": {
               "duration": 300
              }
             }
            ],
            "label": "67",
            "method": "animate"
           },
           {
            "args": [
             [
              68
             ],
             {
              "frame": {
               "duration": 300,
               "redraw": false
              },
              "mode": "immediate",
              "transition": {
               "duration": 300
              }
             }
            ],
            "label": "68",
            "method": "animate"
           },
           {
            "args": [
             [
              74
             ],
             {
              "frame": {
               "duration": 300,
               "redraw": false
              },
              "mode": "immediate",
              "transition": {
               "duration": 300
              }
             }
            ],
            "label": "74",
            "method": "animate"
           },
           {
            "args": [
             [
              76
             ],
             {
              "frame": {
               "duration": 300,
               "redraw": false
              },
              "mode": "immediate",
              "transition": {
               "duration": 300
              }
             }
            ],
            "label": "76",
            "method": "animate"
           },
           {
            "args": [
             [
              70
             ],
             {
              "frame": {
               "duration": 300,
               "redraw": false
              },
              "mode": "immediate",
              "transition": {
               "duration": 300
              }
             }
            ],
            "label": "70",
            "method": "animate"
           },
           {
            "args": [
             [
              38
             ],
             {
              "frame": {
               "duration": 300,
               "redraw": false
              },
              "mode": "immediate",
              "transition": {
               "duration": 300
              }
             }
            ],
            "label": "38",
            "method": "animate"
           },
           {
            "args": [
             [
              77
             ],
             {
              "frame": {
               "duration": 300,
               "redraw": false
              },
              "mode": "immediate",
              "transition": {
               "duration": 300
              }
             }
            ],
            "label": "77",
            "method": "animate"
           }
          ],
          "transition": {
           "duration": 300,
           "easing": "cubic-in-out"
          },
          "x": 0.1,
          "xanchor": "left",
          "y": 0,
          "yanchor": "top"
         }
        ],
        "template": {
         "data": {
          "bar": [
           {
            "error_x": {
             "color": "#2a3f5f"
            },
            "error_y": {
             "color": "#2a3f5f"
            },
            "marker": {
             "line": {
              "color": "#E5ECF6",
              "width": 0.5
             }
            },
            "type": "bar"
           }
          ],
          "barpolar": [
           {
            "marker": {
             "line": {
              "color": "#E5ECF6",
              "width": 0.5
             }
            },
            "type": "barpolar"
           }
          ],
          "carpet": [
           {
            "aaxis": {
             "endlinecolor": "#2a3f5f",
             "gridcolor": "white",
             "linecolor": "white",
             "minorgridcolor": "white",
             "startlinecolor": "#2a3f5f"
            },
            "baxis": {
             "endlinecolor": "#2a3f5f",
             "gridcolor": "white",
             "linecolor": "white",
             "minorgridcolor": "white",
             "startlinecolor": "#2a3f5f"
            },
            "type": "carpet"
           }
          ],
          "choropleth": [
           {
            "colorbar": {
             "outlinewidth": 0,
             "ticks": ""
            },
            "type": "choropleth"
           }
          ],
          "contour": [
           {
            "colorbar": {
             "outlinewidth": 0,
             "ticks": ""
            },
            "colorscale": [
             [
              0,
              "#0d0887"
             ],
             [
              0.1111111111111111,
              "#46039f"
             ],
             [
              0.2222222222222222,
              "#7201a8"
             ],
             [
              0.3333333333333333,
              "#9c179e"
             ],
             [
              0.4444444444444444,
              "#bd3786"
             ],
             [
              0.5555555555555556,
              "#d8576b"
             ],
             [
              0.6666666666666666,
              "#ed7953"
             ],
             [
              0.7777777777777778,
              "#fb9f3a"
             ],
             [
              0.8888888888888888,
              "#fdca26"
             ],
             [
              1,
              "#f0f921"
             ]
            ],
            "type": "contour"
           }
          ],
          "contourcarpet": [
           {
            "colorbar": {
             "outlinewidth": 0,
             "ticks": ""
            },
            "type": "contourcarpet"
           }
          ],
          "heatmap": [
           {
            "colorbar": {
             "outlinewidth": 0,
             "ticks": ""
            },
            "colorscale": [
             [
              0,
              "#0d0887"
             ],
             [
              0.1111111111111111,
              "#46039f"
             ],
             [
              0.2222222222222222,
              "#7201a8"
             ],
             [
              0.3333333333333333,
              "#9c179e"
             ],
             [
              0.4444444444444444,
              "#bd3786"
             ],
             [
              0.5555555555555556,
              "#d8576b"
             ],
             [
              0.6666666666666666,
              "#ed7953"
             ],
             [
              0.7777777777777778,
              "#fb9f3a"
             ],
             [
              0.8888888888888888,
              "#fdca26"
             ],
             [
              1,
              "#f0f921"
             ]
            ],
            "type": "heatmap"
           }
          ],
          "heatmapgl": [
           {
            "colorbar": {
             "outlinewidth": 0,
             "ticks": ""
            },
            "colorscale": [
             [
              0,
              "#0d0887"
             ],
             [
              0.1111111111111111,
              "#46039f"
             ],
             [
              0.2222222222222222,
              "#7201a8"
             ],
             [
              0.3333333333333333,
              "#9c179e"
             ],
             [
              0.4444444444444444,
              "#bd3786"
             ],
             [
              0.5555555555555556,
              "#d8576b"
             ],
             [
              0.6666666666666666,
              "#ed7953"
             ],
             [
              0.7777777777777778,
              "#fb9f3a"
             ],
             [
              0.8888888888888888,
              "#fdca26"
             ],
             [
              1,
              "#f0f921"
             ]
            ],
            "type": "heatmapgl"
           }
          ],
          "histogram": [
           {
            "marker": {
             "colorbar": {
              "outlinewidth": 0,
              "ticks": ""
             }
            },
            "type": "histogram"
           }
          ],
          "histogram2d": [
           {
            "colorbar": {
             "outlinewidth": 0,
             "ticks": ""
            },
            "colorscale": [
             [
              0,
              "#0d0887"
             ],
             [
              0.1111111111111111,
              "#46039f"
             ],
             [
              0.2222222222222222,
              "#7201a8"
             ],
             [
              0.3333333333333333,
              "#9c179e"
             ],
             [
              0.4444444444444444,
              "#bd3786"
             ],
             [
              0.5555555555555556,
              "#d8576b"
             ],
             [
              0.6666666666666666,
              "#ed7953"
             ],
             [
              0.7777777777777778,
              "#fb9f3a"
             ],
             [
              0.8888888888888888,
              "#fdca26"
             ],
             [
              1,
              "#f0f921"
             ]
            ],
            "type": "histogram2d"
           }
          ],
          "histogram2dcontour": [
           {
            "colorbar": {
             "outlinewidth": 0,
             "ticks": ""
            },
            "colorscale": [
             [
              0,
              "#0d0887"
             ],
             [
              0.1111111111111111,
              "#46039f"
             ],
             [
              0.2222222222222222,
              "#7201a8"
             ],
             [
              0.3333333333333333,
              "#9c179e"
             ],
             [
              0.4444444444444444,
              "#bd3786"
             ],
             [
              0.5555555555555556,
              "#d8576b"
             ],
             [
              0.6666666666666666,
              "#ed7953"
             ],
             [
              0.7777777777777778,
              "#fb9f3a"
             ],
             [
              0.8888888888888888,
              "#fdca26"
             ],
             [
              1,
              "#f0f921"
             ]
            ],
            "type": "histogram2dcontour"
           }
          ],
          "mesh3d": [
           {
            "colorbar": {
             "outlinewidth": 0,
             "ticks": ""
            },
            "type": "mesh3d"
           }
          ],
          "parcoords": [
           {
            "line": {
             "colorbar": {
              "outlinewidth": 0,
              "ticks": ""
             }
            },
            "type": "parcoords"
           }
          ],
          "scatter": [
           {
            "marker": {
             "colorbar": {
              "outlinewidth": 0,
              "ticks": ""
             }
            },
            "type": "scatter"
           }
          ],
          "scatter3d": [
           {
            "line": {
             "colorbar": {
              "outlinewidth": 0,
              "ticks": ""
             }
            },
            "marker": {
             "colorbar": {
              "outlinewidth": 0,
              "ticks": ""
             }
            },
            "type": "scatter3d"
           }
          ],
          "scattercarpet": [
           {
            "marker": {
             "colorbar": {
              "outlinewidth": 0,
              "ticks": ""
             }
            },
            "type": "scattercarpet"
           }
          ],
          "scattergeo": [
           {
            "marker": {
             "colorbar": {
              "outlinewidth": 0,
              "ticks": ""
             }
            },
            "type": "scattergeo"
           }
          ],
          "scattergl": [
           {
            "marker": {
             "colorbar": {
              "outlinewidth": 0,
              "ticks": ""
             }
            },
            "type": "scattergl"
           }
          ],
          "scattermapbox": [
           {
            "marker": {
             "colorbar": {
              "outlinewidth": 0,
              "ticks": ""
             }
            },
            "type": "scattermapbox"
           }
          ],
          "scatterpolar": [
           {
            "marker": {
             "colorbar": {
              "outlinewidth": 0,
              "ticks": ""
             }
            },
            "type": "scatterpolar"
           }
          ],
          "scatterpolargl": [
           {
            "marker": {
             "colorbar": {
              "outlinewidth": 0,
              "ticks": ""
             }
            },
            "type": "scatterpolargl"
           }
          ],
          "scatterternary": [
           {
            "marker": {
             "colorbar": {
              "outlinewidth": 0,
              "ticks": ""
             }
            },
            "type": "scatterternary"
           }
          ],
          "surface": [
           {
            "colorbar": {
             "outlinewidth": 0,
             "ticks": ""
            },
            "colorscale": [
             [
              0,
              "#0d0887"
             ],
             [
              0.1111111111111111,
              "#46039f"
             ],
             [
              0.2222222222222222,
              "#7201a8"
             ],
             [
              0.3333333333333333,
              "#9c179e"
             ],
             [
              0.4444444444444444,
              "#bd3786"
             ],
             [
              0.5555555555555556,
              "#d8576b"
             ],
             [
              0.6666666666666666,
              "#ed7953"
             ],
             [
              0.7777777777777778,
              "#fb9f3a"
             ],
             [
              0.8888888888888888,
              "#fdca26"
             ],
             [
              1,
              "#f0f921"
             ]
            ],
            "type": "surface"
           }
          ],
          "table": [
           {
            "cells": {
             "fill": {
              "color": "#EBF0F8"
             },
             "line": {
              "color": "white"
             }
            },
            "header": {
             "fill": {
              "color": "#C8D4E3"
             },
             "line": {
              "color": "white"
             }
            },
            "type": "table"
           }
          ]
         },
         "layout": {
          "annotationdefaults": {
           "arrowcolor": "#2a3f5f",
           "arrowhead": 0,
           "arrowwidth": 1
          },
          "colorscale": {
           "diverging": [
            [
             0,
             "#8e0152"
            ],
            [
             0.1,
             "#c51b7d"
            ],
            [
             0.2,
             "#de77ae"
            ],
            [
             0.3,
             "#f1b6da"
            ],
            [
             0.4,
             "#fde0ef"
            ],
            [
             0.5,
             "#f7f7f7"
            ],
            [
             0.6,
             "#e6f5d0"
            ],
            [
             0.7,
             "#b8e186"
            ],
            [
             0.8,
             "#7fbc41"
            ],
            [
             0.9,
             "#4d9221"
            ],
            [
             1,
             "#276419"
            ]
           ],
           "sequential": [
            [
             0,
             "#0d0887"
            ],
            [
             0.1111111111111111,
             "#46039f"
            ],
            [
             0.2222222222222222,
             "#7201a8"
            ],
            [
             0.3333333333333333,
             "#9c179e"
            ],
            [
             0.4444444444444444,
             "#bd3786"
            ],
            [
             0.5555555555555556,
             "#d8576b"
            ],
            [
             0.6666666666666666,
             "#ed7953"
            ],
            [
             0.7777777777777778,
             "#fb9f3a"
            ],
            [
             0.8888888888888888,
             "#fdca26"
            ],
            [
             1,
             "#f0f921"
            ]
           ],
           "sequentialminus": [
            [
             0,
             "#0d0887"
            ],
            [
             0.1111111111111111,
             "#46039f"
            ],
            [
             0.2222222222222222,
             "#7201a8"
            ],
            [
             0.3333333333333333,
             "#9c179e"
            ],
            [
             0.4444444444444444,
             "#bd3786"
            ],
            [
             0.5555555555555556,
             "#d8576b"
            ],
            [
             0.6666666666666666,
             "#ed7953"
            ],
            [
             0.7777777777777778,
             "#fb9f3a"
            ],
            [
             0.8888888888888888,
             "#fdca26"
            ],
            [
             1,
             "#f0f921"
            ]
           ]
          },
          "colorway": [
           "#636efa",
           "#EF553B",
           "#00cc96",
           "#ab63fa",
           "#FFA15A",
           "#19d3f3",
           "#FF6692",
           "#B6E880",
           "#FF97FF",
           "#FECB52"
          ],
          "font": {
           "color": "#2a3f5f"
          },
          "geo": {
           "bgcolor": "white",
           "lakecolor": "white",
           "landcolor": "#E5ECF6",
           "showlakes": true,
           "showland": true,
           "subunitcolor": "white"
          },
          "hoverlabel": {
           "align": "left"
          },
          "hovermode": "closest",
          "mapbox": {
           "style": "light"
          },
          "paper_bgcolor": "white",
          "plot_bgcolor": "#E5ECF6",
          "polar": {
           "angularaxis": {
            "gridcolor": "white",
            "linecolor": "white",
            "ticks": ""
           },
           "bgcolor": "#E5ECF6",
           "radialaxis": {
            "gridcolor": "white",
            "linecolor": "white",
            "ticks": ""
           }
          },
          "scene": {
           "xaxis": {
            "backgroundcolor": "#E5ECF6",
            "gridcolor": "white",
            "gridwidth": 2,
            "linecolor": "white",
            "showbackground": true,
            "ticks": "",
            "zerolinecolor": "white"
           },
           "yaxis": {
            "backgroundcolor": "#E5ECF6",
            "gridcolor": "white",
            "gridwidth": 2,
            "linecolor": "white",
            "showbackground": true,
            "ticks": "",
            "zerolinecolor": "white"
           },
           "zaxis": {
            "backgroundcolor": "#E5ECF6",
            "gridcolor": "white",
            "gridwidth": 2,
            "linecolor": "white",
            "showbackground": true,
            "ticks": "",
            "zerolinecolor": "white"
           }
          },
          "shapedefaults": {
           "line": {
            "color": "#2a3f5f"
           }
          },
          "ternary": {
           "aaxis": {
            "gridcolor": "white",
            "linecolor": "white",
            "ticks": ""
           },
           "baxis": {
            "gridcolor": "white",
            "linecolor": "white",
            "ticks": ""
           },
           "bgcolor": "#E5ECF6",
           "caxis": {
            "gridcolor": "white",
            "linecolor": "white",
            "ticks": ""
           }
          },
          "title": {
           "x": 0.05
          },
          "xaxis": {
           "automargin": true,
           "gridcolor": "white",
           "linecolor": "white",
           "ticks": "",
           "zerolinecolor": "white",
           "zerolinewidth": 2
          },
          "yaxis": {
           "automargin": true,
           "gridcolor": "white",
           "linecolor": "white",
           "ticks": "",
           "zerolinecolor": "white",
           "zerolinewidth": 2
          }
         }
        },
        "title": {
         "text": "BP vs Chol. vs Age vs Sex vs Heart Rate"
        },
        "updatemenus": [
         {
          "buttons": [
           {
            "args": [
             null,
             {
              "frame": {
               "duration": 500,
               "redraw": false
              },
              "fromcurrent": true,
              "transition": {
               "duration": 300,
               "easing": "quadratic-in-out"
              }
             }
            ],
            "label": "Play",
            "method": "animate"
           },
           {
            "args": [
             [
              null
             ],
             {
              "frame": {
               "duration": 0,
               "redraw": false
              },
              "mode": "immediate",
              "transition": {
               "duration": 0
              }
             }
            ],
            "label": "Pause",
            "method": "animate"
           }
          ],
          "direction": "left",
          "pad": {
           "r": 10,
           "t": 87
          },
          "showactive": false,
          "type": "buttons",
          "x": 0.1,
          "xanchor": "right",
          "y": 0,
          "yanchor": "top"
         }
        ],
        "xaxis": {
         "autorange": false,
         "range": [
          65.8,
          280
         ],
         "title": {
          "text": "Resting Blood Pressure"
         }
        },
        "yaxis": {
         "autorange": false,
         "range": [
          88.19999999999999,
          789.5999999999999
         ],
         "title": {
          "text": "Cholestrol"
         }
        }
       }
      },
      "text/html": [
       "<div>\n",
       "        \n",
       "        \n",
       "            <div id=\"1e581c9a-c933-4978-bc4c-8330b0b37f4a\" class=\"plotly-graph-div\" style=\"height:650px; width:100%;\"></div>\n",
       "            <script type=\"text/javascript\">\n",
       "                require([\"plotly\"], function(Plotly) {\n",
       "                    window.PLOTLYENV=window.PLOTLYENV || {};\n",
       "                    \n",
       "                if (document.getElementById(\"1e581c9a-c933-4978-bc4c-8330b0b37f4a\")) {\n",
       "                    Plotly.newPlot(\n",
       "                        '1e581c9a-c933-4978-bc4c-8330b0b37f4a',\n",
       "                        [{\"marker\": {\"color\": [1], \"colorbar\": {\"title\": {\"text\": \"sex\"}}, \"size\": [0.0], \"sizemode\": \"area\", \"sizeref\": 0.0006458333333333333}, \"mode\": \"markers\", \"text\": [\"1\"], \"type\": \"scatter\", \"x\": [130], \"y\": [204]}],\n",
       "                        {\"height\": 650, \"hovermode\": \"closest\", \"margin\": {\"b\": 50, \"pad\": 5, \"t\": 50}, \"showlegend\": false, \"sliders\": [{\"active\": 0, \"currentvalue\": {\"font\": {\"size\": 20}, \"prefix\": \"Year:\", \"visible\": true, \"xanchor\": \"right\"}, \"len\": 0.9, \"pad\": {\"b\": 10, \"t\": 50}, \"steps\": [{\"args\": [[63], {\"frame\": {\"duration\": 300, \"redraw\": false}, \"mode\": \"immediate\", \"transition\": {\"duration\": 300}}], \"label\": \"63\", \"method\": \"animate\"}, {\"args\": [[37], {\"frame\": {\"duration\": 300, \"redraw\": false}, \"mode\": \"immediate\", \"transition\": {\"duration\": 300}}], \"label\": \"37\", \"method\": \"animate\"}, {\"args\": [[41], {\"frame\": {\"duration\": 300, \"redraw\": false}, \"mode\": \"immediate\", \"transition\": {\"duration\": 300}}], \"label\": \"41\", \"method\": \"animate\"}, {\"args\": [[56], {\"frame\": {\"duration\": 300, \"redraw\": false}, \"mode\": \"immediate\", \"transition\": {\"duration\": 300}}], \"label\": \"56\", \"method\": \"animate\"}, {\"args\": [[57], {\"frame\": {\"duration\": 300, \"redraw\": false}, \"mode\": \"immediate\", \"transition\": {\"duration\": 300}}], \"label\": \"57\", \"method\": \"animate\"}, {\"args\": [[44], {\"frame\": {\"duration\": 300, \"redraw\": false}, \"mode\": \"immediate\", \"transition\": {\"duration\": 300}}], \"label\": \"44\", \"method\": \"animate\"}, {\"args\": [[52], {\"frame\": {\"duration\": 300, \"redraw\": false}, \"mode\": \"immediate\", \"transition\": {\"duration\": 300}}], \"label\": \"52\", \"method\": \"animate\"}, {\"args\": [[54], {\"frame\": {\"duration\": 300, \"redraw\": false}, \"mode\": \"immediate\", \"transition\": {\"duration\": 300}}], \"label\": \"54\", \"method\": \"animate\"}, {\"args\": [[48], {\"frame\": {\"duration\": 300, \"redraw\": false}, \"mode\": \"immediate\", \"transition\": {\"duration\": 300}}], \"label\": \"48\", \"method\": \"animate\"}, {\"args\": [[49], {\"frame\": {\"duration\": 300, \"redraw\": false}, \"mode\": \"immediate\", \"transition\": {\"duration\": 300}}], \"label\": \"49\", \"method\": \"animate\"}, {\"args\": [[64], {\"frame\": {\"duration\": 300, \"redraw\": false}, \"mode\": \"immediate\", \"transition\": {\"duration\": 300}}], \"label\": \"64\", \"method\": \"animate\"}, {\"args\": [[58], {\"frame\": {\"duration\": 300, \"redraw\": false}, \"mode\": \"immediate\", \"transition\": {\"duration\": 300}}], \"label\": \"58\", \"method\": \"animate\"}, {\"args\": [[50], {\"frame\": {\"duration\": 300, \"redraw\": false}, \"mode\": \"immediate\", \"transition\": {\"duration\": 300}}], \"label\": \"50\", \"method\": \"animate\"}, {\"args\": [[66], {\"frame\": {\"duration\": 300, \"redraw\": false}, \"mode\": \"immediate\", \"transition\": {\"duration\": 300}}], \"label\": \"66\", \"method\": \"animate\"}, {\"args\": [[43], {\"frame\": {\"duration\": 300, \"redraw\": false}, \"mode\": \"immediate\", \"transition\": {\"duration\": 300}}], \"label\": \"43\", \"method\": \"animate\"}, {\"args\": [[69], {\"frame\": {\"duration\": 300, \"redraw\": false}, \"mode\": \"immediate\", \"transition\": {\"duration\": 300}}], \"label\": \"69\", \"method\": \"animate\"}, {\"args\": [[59], {\"frame\": {\"duration\": 300, \"redraw\": false}, \"mode\": \"immediate\", \"transition\": {\"duration\": 300}}], \"label\": \"59\", \"method\": \"animate\"}, {\"args\": [[42], {\"frame\": {\"duration\": 300, \"redraw\": false}, \"mode\": \"immediate\", \"transition\": {\"duration\": 300}}], \"label\": \"42\", \"method\": \"animate\"}, {\"args\": [[61], {\"frame\": {\"duration\": 300, \"redraw\": false}, \"mode\": \"immediate\", \"transition\": {\"duration\": 300}}], \"label\": \"61\", \"method\": \"animate\"}, {\"args\": [[40], {\"frame\": {\"duration\": 300, \"redraw\": false}, \"mode\": \"immediate\", \"transition\": {\"duration\": 300}}], \"label\": \"40\", \"method\": \"animate\"}, {\"args\": [[71], {\"frame\": {\"duration\": 300, \"redraw\": false}, \"mode\": \"immediate\", \"transition\": {\"duration\": 300}}], \"label\": \"71\", \"method\": \"animate\"}, {\"args\": [[51], {\"frame\": {\"duration\": 300, \"redraw\": false}, \"mode\": \"immediate\", \"transition\": {\"duration\": 300}}], \"label\": \"51\", \"method\": \"animate\"}, {\"args\": [[65], {\"frame\": {\"duration\": 300, \"redraw\": false}, \"mode\": \"immediate\", \"transition\": {\"duration\": 300}}], \"label\": \"65\", \"method\": \"animate\"}, {\"args\": [[53], {\"frame\": {\"duration\": 300, \"redraw\": false}, \"mode\": \"immediate\", \"transition\": {\"duration\": 300}}], \"label\": \"53\", \"method\": \"animate\"}, {\"args\": [[46], {\"frame\": {\"duration\": 300, \"redraw\": false}, \"mode\": \"immediate\", \"transition\": {\"duration\": 300}}], \"label\": \"46\", \"method\": \"animate\"}, {\"args\": [[45], {\"frame\": {\"duration\": 300, \"redraw\": false}, \"mode\": \"immediate\", \"transition\": {\"duration\": 300}}], \"label\": \"45\", \"method\": \"animate\"}, {\"args\": [[39], {\"frame\": {\"duration\": 300, \"redraw\": false}, \"mode\": \"immediate\", \"transition\": {\"duration\": 300}}], \"label\": \"39\", \"method\": \"animate\"}, {\"args\": [[47], {\"frame\": {\"duration\": 300, \"redraw\": false}, \"mode\": \"immediate\", \"transition\": {\"duration\": 300}}], \"label\": \"47\", \"method\": \"animate\"}, {\"args\": [[62], {\"frame\": {\"duration\": 300, \"redraw\": false}, \"mode\": \"immediate\", \"transition\": {\"duration\": 300}}], \"label\": \"62\", \"method\": \"animate\"}, {\"args\": [[34], {\"frame\": {\"duration\": 300, \"redraw\": false}, \"mode\": \"immediate\", \"transition\": {\"duration\": 300}}], \"label\": \"34\", \"method\": \"animate\"}, {\"args\": [[35], {\"frame\": {\"duration\": 300, \"redraw\": false}, \"mode\": \"immediate\", \"transition\": {\"duration\": 300}}], \"label\": \"35\", \"method\": \"animate\"}, {\"args\": [[29], {\"frame\": {\"duration\": 300, \"redraw\": false}, \"mode\": \"immediate\", \"transition\": {\"duration\": 300}}], \"label\": \"29\", \"method\": \"animate\"}, {\"args\": [[55], {\"frame\": {\"duration\": 300, \"redraw\": false}, \"mode\": \"immediate\", \"transition\": {\"duration\": 300}}], \"label\": \"55\", \"method\": \"animate\"}, {\"args\": [[60], {\"frame\": {\"duration\": 300, \"redraw\": false}, \"mode\": \"immediate\", \"transition\": {\"duration\": 300}}], \"label\": \"60\", \"method\": \"animate\"}, {\"args\": [[67], {\"frame\": {\"duration\": 300, \"redraw\": false}, \"mode\": \"immediate\", \"transition\": {\"duration\": 300}}], \"label\": \"67\", \"method\": \"animate\"}, {\"args\": [[68], {\"frame\": {\"duration\": 300, \"redraw\": false}, \"mode\": \"immediate\", \"transition\": {\"duration\": 300}}], \"label\": \"68\", \"method\": \"animate\"}, {\"args\": [[74], {\"frame\": {\"duration\": 300, \"redraw\": false}, \"mode\": \"immediate\", \"transition\": {\"duration\": 300}}], \"label\": \"74\", \"method\": \"animate\"}, {\"args\": [[76], {\"frame\": {\"duration\": 300, \"redraw\": false}, \"mode\": \"immediate\", \"transition\": {\"duration\": 300}}], \"label\": \"76\", \"method\": \"animate\"}, {\"args\": [[70], {\"frame\": {\"duration\": 300, \"redraw\": false}, \"mode\": \"immediate\", \"transition\": {\"duration\": 300}}], \"label\": \"70\", \"method\": \"animate\"}, {\"args\": [[38], {\"frame\": {\"duration\": 300, \"redraw\": false}, \"mode\": \"immediate\", \"transition\": {\"duration\": 300}}], \"label\": \"38\", \"method\": \"animate\"}, {\"args\": [[77], {\"frame\": {\"duration\": 300, \"redraw\": false}, \"mode\": \"immediate\", \"transition\": {\"duration\": 300}}], \"label\": \"77\", \"method\": \"animate\"}], \"transition\": {\"duration\": 300, \"easing\": \"cubic-in-out\"}, \"x\": 0.1, \"xanchor\": \"left\", \"y\": 0, \"yanchor\": \"top\"}], \"template\": {\"data\": {\"bar\": [{\"error_x\": {\"color\": \"#2a3f5f\"}, \"error_y\": {\"color\": \"#2a3f5f\"}, \"marker\": {\"line\": {\"color\": \"#E5ECF6\", \"width\": 0.5}}, \"type\": \"bar\"}], \"barpolar\": [{\"marker\": {\"line\": {\"color\": \"#E5ECF6\", \"width\": 0.5}}, \"type\": \"barpolar\"}], \"carpet\": [{\"aaxis\": {\"endlinecolor\": \"#2a3f5f\", \"gridcolor\": \"white\", \"linecolor\": \"white\", \"minorgridcolor\": \"white\", \"startlinecolor\": \"#2a3f5f\"}, \"baxis\": {\"endlinecolor\": \"#2a3f5f\", \"gridcolor\": \"white\", \"linecolor\": \"white\", \"minorgridcolor\": \"white\", \"startlinecolor\": \"#2a3f5f\"}, \"type\": \"carpet\"}], \"choropleth\": [{\"colorbar\": {\"outlinewidth\": 0, \"ticks\": \"\"}, \"type\": \"choropleth\"}], \"contour\": [{\"colorbar\": {\"outlinewidth\": 0, \"ticks\": \"\"}, \"colorscale\": [[0.0, \"#0d0887\"], [0.1111111111111111, \"#46039f\"], [0.2222222222222222, \"#7201a8\"], [0.3333333333333333, \"#9c179e\"], [0.4444444444444444, \"#bd3786\"], [0.5555555555555556, \"#d8576b\"], [0.6666666666666666, \"#ed7953\"], [0.7777777777777778, \"#fb9f3a\"], [0.8888888888888888, \"#fdca26\"], [1.0, \"#f0f921\"]], \"type\": \"contour\"}], \"contourcarpet\": [{\"colorbar\": {\"outlinewidth\": 0, \"ticks\": \"\"}, \"type\": \"contourcarpet\"}], \"heatmap\": [{\"colorbar\": {\"outlinewidth\": 0, \"ticks\": \"\"}, \"colorscale\": [[0.0, \"#0d0887\"], [0.1111111111111111, \"#46039f\"], [0.2222222222222222, \"#7201a8\"], [0.3333333333333333, \"#9c179e\"], [0.4444444444444444, \"#bd3786\"], [0.5555555555555556, \"#d8576b\"], [0.6666666666666666, \"#ed7953\"], [0.7777777777777778, \"#fb9f3a\"], [0.8888888888888888, \"#fdca26\"], [1.0, \"#f0f921\"]], \"type\": \"heatmap\"}], \"heatmapgl\": [{\"colorbar\": {\"outlinewidth\": 0, \"ticks\": \"\"}, \"colorscale\": [[0.0, \"#0d0887\"], [0.1111111111111111, \"#46039f\"], [0.2222222222222222, \"#7201a8\"], [0.3333333333333333, \"#9c179e\"], [0.4444444444444444, \"#bd3786\"], [0.5555555555555556, \"#d8576b\"], [0.6666666666666666, \"#ed7953\"], [0.7777777777777778, \"#fb9f3a\"], [0.8888888888888888, \"#fdca26\"], [1.0, \"#f0f921\"]], \"type\": \"heatmapgl\"}], \"histogram\": [{\"marker\": {\"colorbar\": {\"outlinewidth\": 0, \"ticks\": \"\"}}, \"type\": \"histogram\"}], \"histogram2d\": [{\"colorbar\": {\"outlinewidth\": 0, \"ticks\": \"\"}, \"colorscale\": [[0.0, \"#0d0887\"], [0.1111111111111111, \"#46039f\"], [0.2222222222222222, \"#7201a8\"], [0.3333333333333333, \"#9c179e\"], [0.4444444444444444, \"#bd3786\"], [0.5555555555555556, \"#d8576b\"], [0.6666666666666666, \"#ed7953\"], [0.7777777777777778, \"#fb9f3a\"], [0.8888888888888888, \"#fdca26\"], [1.0, \"#f0f921\"]], \"type\": \"histogram2d\"}], \"histogram2dcontour\": [{\"colorbar\": {\"outlinewidth\": 0, \"ticks\": \"\"}, \"colorscale\": [[0.0, \"#0d0887\"], [0.1111111111111111, \"#46039f\"], [0.2222222222222222, \"#7201a8\"], [0.3333333333333333, \"#9c179e\"], [0.4444444444444444, \"#bd3786\"], [0.5555555555555556, \"#d8576b\"], [0.6666666666666666, \"#ed7953\"], [0.7777777777777778, \"#fb9f3a\"], [0.8888888888888888, \"#fdca26\"], [1.0, \"#f0f921\"]], \"type\": \"histogram2dcontour\"}], \"mesh3d\": [{\"colorbar\": {\"outlinewidth\": 0, \"ticks\": \"\"}, \"type\": \"mesh3d\"}], \"parcoords\": [{\"line\": {\"colorbar\": {\"outlinewidth\": 0, \"ticks\": \"\"}}, \"type\": \"parcoords\"}], \"scatter\": [{\"marker\": {\"colorbar\": {\"outlinewidth\": 0, \"ticks\": \"\"}}, \"type\": \"scatter\"}], \"scatter3d\": [{\"line\": {\"colorbar\": {\"outlinewidth\": 0, \"ticks\": \"\"}}, \"marker\": {\"colorbar\": {\"outlinewidth\": 0, \"ticks\": \"\"}}, \"type\": \"scatter3d\"}], \"scattercarpet\": [{\"marker\": {\"colorbar\": {\"outlinewidth\": 0, \"ticks\": \"\"}}, \"type\": \"scattercarpet\"}], \"scattergeo\": [{\"marker\": {\"colorbar\": {\"outlinewidth\": 0, \"ticks\": \"\"}}, \"type\": \"scattergeo\"}], \"scattergl\": [{\"marker\": {\"colorbar\": {\"outlinewidth\": 0, \"ticks\": \"\"}}, \"type\": \"scattergl\"}], \"scattermapbox\": [{\"marker\": {\"colorbar\": {\"outlinewidth\": 0, \"ticks\": \"\"}}, \"type\": \"scattermapbox\"}], \"scatterpolar\": [{\"marker\": {\"colorbar\": {\"outlinewidth\": 0, \"ticks\": \"\"}}, \"type\": \"scatterpolar\"}], \"scatterpolargl\": [{\"marker\": {\"colorbar\": {\"outlinewidth\": 0, \"ticks\": \"\"}}, \"type\": \"scatterpolargl\"}], \"scatterternary\": [{\"marker\": {\"colorbar\": {\"outlinewidth\": 0, \"ticks\": \"\"}}, \"type\": \"scatterternary\"}], \"surface\": [{\"colorbar\": {\"outlinewidth\": 0, \"ticks\": \"\"}, \"colorscale\": [[0.0, \"#0d0887\"], [0.1111111111111111, \"#46039f\"], [0.2222222222222222, \"#7201a8\"], [0.3333333333333333, \"#9c179e\"], [0.4444444444444444, \"#bd3786\"], [0.5555555555555556, \"#d8576b\"], [0.6666666666666666, \"#ed7953\"], [0.7777777777777778, \"#fb9f3a\"], [0.8888888888888888, \"#fdca26\"], [1.0, \"#f0f921\"]], \"type\": \"surface\"}], \"table\": [{\"cells\": {\"fill\": {\"color\": \"#EBF0F8\"}, \"line\": {\"color\": \"white\"}}, \"header\": {\"fill\": {\"color\": \"#C8D4E3\"}, \"line\": {\"color\": \"white\"}}, \"type\": \"table\"}]}, \"layout\": {\"annotationdefaults\": {\"arrowcolor\": \"#2a3f5f\", \"arrowhead\": 0, \"arrowwidth\": 1}, \"colorscale\": {\"diverging\": [[0, \"#8e0152\"], [0.1, \"#c51b7d\"], [0.2, \"#de77ae\"], [0.3, \"#f1b6da\"], [0.4, \"#fde0ef\"], [0.5, \"#f7f7f7\"], [0.6, \"#e6f5d0\"], [0.7, \"#b8e186\"], [0.8, \"#7fbc41\"], [0.9, \"#4d9221\"], [1, \"#276419\"]], \"sequential\": [[0.0, \"#0d0887\"], [0.1111111111111111, \"#46039f\"], [0.2222222222222222, \"#7201a8\"], [0.3333333333333333, \"#9c179e\"], [0.4444444444444444, \"#bd3786\"], [0.5555555555555556, \"#d8576b\"], [0.6666666666666666, \"#ed7953\"], [0.7777777777777778, \"#fb9f3a\"], [0.8888888888888888, \"#fdca26\"], [1.0, \"#f0f921\"]], \"sequentialminus\": [[0.0, \"#0d0887\"], [0.1111111111111111, \"#46039f\"], [0.2222222222222222, \"#7201a8\"], [0.3333333333333333, \"#9c179e\"], [0.4444444444444444, \"#bd3786\"], [0.5555555555555556, \"#d8576b\"], [0.6666666666666666, \"#ed7953\"], [0.7777777777777778, \"#fb9f3a\"], [0.8888888888888888, \"#fdca26\"], [1.0, \"#f0f921\"]]}, \"colorway\": [\"#636efa\", \"#EF553B\", \"#00cc96\", \"#ab63fa\", \"#FFA15A\", \"#19d3f3\", \"#FF6692\", \"#B6E880\", \"#FF97FF\", \"#FECB52\"], \"font\": {\"color\": \"#2a3f5f\"}, \"geo\": {\"bgcolor\": \"white\", \"lakecolor\": \"white\", \"landcolor\": \"#E5ECF6\", \"showlakes\": true, \"showland\": true, \"subunitcolor\": \"white\"}, \"hoverlabel\": {\"align\": \"left\"}, \"hovermode\": \"closest\", \"mapbox\": {\"style\": \"light\"}, \"paper_bgcolor\": \"white\", \"plot_bgcolor\": \"#E5ECF6\", \"polar\": {\"angularaxis\": {\"gridcolor\": \"white\", \"linecolor\": \"white\", \"ticks\": \"\"}, \"bgcolor\": \"#E5ECF6\", \"radialaxis\": {\"gridcolor\": \"white\", \"linecolor\": \"white\", \"ticks\": \"\"}}, \"scene\": {\"xaxis\": {\"backgroundcolor\": \"#E5ECF6\", \"gridcolor\": \"white\", \"gridwidth\": 2, \"linecolor\": \"white\", \"showbackground\": true, \"ticks\": \"\", \"zerolinecolor\": \"white\"}, \"yaxis\": {\"backgroundcolor\": \"#E5ECF6\", \"gridcolor\": \"white\", \"gridwidth\": 2, \"linecolor\": \"white\", \"showbackground\": true, \"ticks\": \"\", \"zerolinecolor\": \"white\"}, \"zaxis\": {\"backgroundcolor\": \"#E5ECF6\", \"gridcolor\": \"white\", \"gridwidth\": 2, \"linecolor\": \"white\", \"showbackground\": true, \"ticks\": \"\", \"zerolinecolor\": \"white\"}}, \"shapedefaults\": {\"line\": {\"color\": \"#2a3f5f\"}}, \"ternary\": {\"aaxis\": {\"gridcolor\": \"white\", \"linecolor\": \"white\", \"ticks\": \"\"}, \"baxis\": {\"gridcolor\": \"white\", \"linecolor\": \"white\", \"ticks\": \"\"}, \"bgcolor\": \"#E5ECF6\", \"caxis\": {\"gridcolor\": \"white\", \"linecolor\": \"white\", \"ticks\": \"\"}}, \"title\": {\"x\": 0.05}, \"xaxis\": {\"automargin\": true, \"gridcolor\": \"white\", \"linecolor\": \"white\", \"ticks\": \"\", \"zerolinecolor\": \"white\", \"zerolinewidth\": 2}, \"yaxis\": {\"automargin\": true, \"gridcolor\": \"white\", \"linecolor\": \"white\", \"ticks\": \"\", \"zerolinecolor\": \"white\", \"zerolinewidth\": 2}}}, \"title\": {\"text\": \"BP vs Chol. vs Age vs Sex vs Heart Rate\"}, \"updatemenus\": [{\"buttons\": [{\"args\": [null, {\"frame\": {\"duration\": 500, \"redraw\": false}, \"fromcurrent\": true, \"transition\": {\"duration\": 300, \"easing\": \"quadratic-in-out\"}}], \"label\": \"Play\", \"method\": \"animate\"}, {\"args\": [[null], {\"frame\": {\"duration\": 0, \"redraw\": false}, \"mode\": \"immediate\", \"transition\": {\"duration\": 0}}], \"label\": \"Pause\", \"method\": \"animate\"}], \"direction\": \"left\", \"pad\": {\"r\": 10, \"t\": 87}, \"showactive\": false, \"type\": \"buttons\", \"x\": 0.1, \"xanchor\": \"right\", \"y\": 0, \"yanchor\": \"top\"}], \"xaxis\": {\"autorange\": false, \"range\": [65.8, 280.0], \"title\": {\"text\": \"Resting Blood Pressure\"}}, \"yaxis\": {\"autorange\": false, \"range\": [88.19999999999999, 789.5999999999999], \"title\": {\"text\": \"Cholestrol\"}}},\n",
       "                        {\"scrollzoom\": true, \"responsive\": true}\n",
       "                    ).then(function(){\n",
       "                            Plotly.addFrames('1e581c9a-c933-4978-bc4c-8330b0b37f4a', [{\"data\": [{\"marker\": {\"color\": [1, 0, 0, 1, 1, 0, 0, 1, 0], \"colorbar\": {\"title\": {\"text\": \"sex\"}}, \"size\": [2.3, 0.0, 0.0, 1.4, 1.8, 4.0, 1.8, 4.0, 0.0], \"sizemode\": \"area\", \"sizeref\": 0.0006458333333333333}, \"mode\": \"markers\", \"text\": [\"1\", \"0\", \"0\", \"1\", \"1\", \"0\", \"0\", \"1\", \"0\"], \"x\": [145, 135, 140, 130, 130, 150, 108, 140, 124], \"y\": [233, 252, 195, 254, 330, 407, 269, 187, 197], \"type\": \"scatter\"}], \"name\": \"63\"}, {\"data\": [{\"marker\": {\"color\": [1, 0], \"colorbar\": {\"title\": {\"text\": \"sex\"}}, \"size\": [3.5, 0.0], \"sizemode\": \"area\", \"sizeref\": 0.0006458333333333333}, \"mode\": \"markers\", \"text\": [\"1\", \"0\"], \"x\": [130, 120], \"y\": [250, 215], \"type\": \"scatter\"}], \"name\": \"37\"}, {\"data\": [{\"marker\": {\"color\": [0, 0, 1, 1, 1, 0, 1, 0, 1, 1], \"colorbar\": {\"title\": {\"text\": \"sex\"}}, \"size\": [1.4, 0.0, 0.0, 0.0, 2.0, 0.0, 0.0, 0.0, 0.0, 0.0], \"sizemode\": \"area\", \"sizeref\": 0.0006458333333333333}, \"mode\": \"markers\", \"text\": [\"0\", \"0\", \"1\", \"1\", \"1\", \"0\", \"1\", \"0\", \"1\", \"1\"], \"x\": [130, 105, 135, 112, 130, 112, 110, 126, 120, 110], \"y\": [204, 198, 203, 250, 214, 268, 235, 306, 157, 172], \"type\": \"scatter\"}], \"name\": \"41\"}, {\"data\": [{\"marker\": {\"color\": [1, 0, 1, 1, 1, 1, 1, 0, 1, 0, 1], \"colorbar\": {\"title\": {\"text\": \"sex\"}}, \"size\": [0.8, 1.3, 1.9, 0.0, 0.0, 0.6, 1.2, 4.0, 2.1, 1.9, 1.6], \"sizemode\": \"area\", \"sizeref\": 0.0006458333333333333}, \"mode\": \"markers\", \"text\": [\"1\", \"0\", \"1\", \"1\", \"1\", \"1\", \"1\", \"0\", \"1\", \"0\", \"1\"], \"x\": [120, 140, 120, 130, 120, 130, 125, 200, 132, 134, 130], \"y\": [236, 294, 193, 221, 240, 256, 249, 288, 184, 409, 283], \"type\": \"scatter\"}], \"name\": \"56\"}, {\"data\": [{\"marker\": {\"color\": [0, 1, 1, 0, 1, 1, 1, 1, 1, 1, 1, 1, 1, 1, 0, 1, 0], \"colorbar\": {\"title\": {\"text\": \"sex\"}}, \"size\": [0.6, 0.4, 1.6, 0.0, 0.0, 0.2, 1.5, 0.6, 0.4, 1.0, 1.2, 0.3, 0.0, 3.0, 0.2, 1.2, 0.0], \"sizemode\": \"area\", \"sizeref\": 0.0006458333333333333}, \"mode\": \"markers\", \"text\": [\"0\", \"1\", \"1\", \"0\", \"1\", \"1\", \"1\", \"1\", \"1\", \"1\", \"1\", \"1\", \"1\", \"1\", \"0\", \"1\", \"0\"], \"x\": [120, 140, 150, 128, 132, 150, 110, 150, 128, 165, 152, 124, 154, 110, 140, 130, 130], \"y\": [354, 192, 168, 303, 207, 126, 201, 276, 229, 289, 274, 261, 232, 335, 241, 131, 236], \"type\": \"scatter\"}], \"name\": \"57\"}, {\"data\": [{\"marker\": {\"color\": [1, 1, 1, 1, 0, 1, 0, 1, 1, 1, 1], \"colorbar\": {\"title\": {\"text\": \"sex\"}}, \"size\": [0.0, 0.4, 0.0, 0.0, 0.6, 0.0, 0.3, 0.0, 0.0, 0.0, 2.8], \"sizemode\": \"area\", \"sizeref\": 0.0006458333333333333}, \"mode\": \"markers\", \"text\": [\"1\", \"1\", \"1\", \"1\", \"0\", \"1\", \"0\", \"1\", \"1\", \"1\", \"1\"], \"x\": [120, 130, 130, 140, 108, 120, 118, 120, 112, 110, 120], \"y\": [263, 233, 219, 235, 141, 220, 242, 226, 290, 197, 169], \"type\": \"scatter\"}], \"name\": \"44\"}, {\"data\": [{\"marker\": {\"color\": [1, 1, 1, 1, 1, 1, 1, 1, 0, 1, 1, 1, 1], \"colorbar\": {\"title\": {\"text\": \"sex\"}}, \"size\": [0.5, 0.2, 0.8, 0.0, 0.0, 1.2, 0.0, 0.1, 0.1, 0.0, 0.0, 1.0, 1.0], \"sizemode\": \"area\", \"sizeref\": 0.0006458333333333333}, \"mode\": \"markers\", \"text\": [\"1\", \"1\", \"1\", \"1\", \"1\", \"1\", \"1\", \"1\", \"0\", \"1\", \"1\", \"1\", \"1\"], \"x\": [172, 120, 134, 118, 128, 152, 138, 108, 136, 128, 112, 125, 128], \"y\": [199, 325, 201, 186, 205, 298, 223, 233, 196, 255, 230, 212, 204], \"type\": \"scatter\"}], \"name\": \"52\"}, {\"data\": [{\"marker\": {\"color\": [1, 1, 0, 1, 1, 1, 0, 0, 0, 0, 1, 1, 1, 1, 1, 1], \"colorbar\": {\"title\": {\"text\": \"sex\"}}, \"size\": [1.2, 0.5, 0.0, 1.6, 0.0, 0.4, 1.6, 0.0, 0.0, 0.0, 2.2, 1.4, 2.8, 0.0, 0.0, 3.2], \"sizemode\": \"area\", \"sizeref\": 0.0006458333333333333}, \"mode\": \"markers\", \"text\": [\"1\", \"1\", \"0\", \"1\", \"1\", \"1\", \"0\", \"0\", \"0\", \"0\", \"1\", \"1\", \"1\", \"1\", \"1\", \"1\"], \"x\": [140, 125, 135, 150, 108, 120, 110, 132, 108, 160, 124, 120, 110, 192, 110, 122], \"y\": [239, 273, 304, 232, 309, 258, 214, 288, 267, 201, 266, 188, 239, 283, 206, 286], \"type\": \"scatter\"}], \"name\": \"54\"}, {\"data\": [{\"marker\": {\"color\": [0, 1, 1, 1, 1, 1, 1], \"colorbar\": {\"title\": {\"text\": \"sex\"}}, \"size\": [0.2, 0.2, 0.0, 0.0, 1.0, 0.0, 0.5], \"sizemode\": \"area\", \"sizeref\": 0.0006458333333333333}, \"mode\": \"markers\", \"text\": [\"0\", \"1\", \"1\", \"1\", \"1\", \"1\", \"1\"], \"x\": [130, 130, 122, 124, 110, 130, 124], \"y\": [275, 245, 222, 255, 229, 256, 274], \"type\": \"scatter\"}], \"name\": \"48\"}, {\"data\": [{\"marker\": {\"color\": [1, 0, 0, 1, 1], \"colorbar\": {\"title\": {\"text\": \"sex\"}}, \"size\": [0.6, 0.0, 0.0, 2.0, 0.8], \"sizemode\": \"area\", \"sizeref\": 0.0006458333333333333}, \"mode\": \"markers\", \"text\": [\"1\", \"0\", \"0\", \"1\", \"1\"], \"x\": [130, 134, 130, 120, 118], \"y\": [266, 271, 269, 188, 149], \"type\": \"scatter\"}], \"name\": \"49\"}, {\"data\": [{\"marker\": {\"color\": [1, 0, 0, 0, 1, 1, 1, 1, 1, 1], \"colorbar\": {\"title\": {\"text\": \"sex\"}}, \"size\": [1.8, 0.0, 0.2, 2.0, 0.2, 0.6, 0.0, 1.8, 2.2, 2.0], \"sizemode\": \"area\", \"sizeref\": 0.0006458333333333333}, \"mode\": \"markers\", \"text\": [\"1\", \"0\", \"0\", \"0\", \"1\", \"1\", \"1\", \"1\", \"1\", \"1\"], \"x\": [110, 180, 140, 130, 128, 170, 140, 125, 120, 145], \"y\": [211, 325, 313, 303, 263, 227, 335, 309, 246, 212], \"type\": \"scatter\"}], \"name\": \"64\"}, {\"data\": [{\"marker\": {\"color\": [0, 0, 1, 1, 0, 0, 1, 1, 1, 1, 1, 1, 1, 1, 1, 1, 0, 1, 0], \"colorbar\": {\"title\": {\"text\": \"sex\"}}, \"size\": [1.0, 0.0, 0.0, 0.6, 1.0, 0.6, 0.4, 1.8, 3.2, 2.5, 2.2, 0.8, 0.0, 3.0, 0.1, 2.0, 0.0, 4.4, 2.8], \"sizemode\": \"area\", \"sizeref\": 0.0006458333333333333}, \"mode\": \"markers\", \"text\": [\"0\", \"0\", \"1\", \"1\", \"0\", \"0\", \"1\", \"1\", \"1\", \"1\", \"1\", \"1\", \"1\", \"1\", \"1\", \"1\", \"0\", \"1\", \"0\"], \"x\": [150, 120, 140, 105, 100, 130, 125, 120, 132, 112, 128, 150, 125, 128, 100, 146, 136, 114, 170], \"y\": [283, 340, 211, 240, 248, 197, 220, 284, 224, 230, 216, 270, 300, 259, 234, 218, 319, 318, 225], \"type\": \"scatter\"}], \"name\": \"58\"}, {\"data\": [{\"marker\": {\"color\": [0, 1, 0, 0, 1, 1, 1], \"colorbar\": {\"title\": {\"text\": \"sex\"}}, \"size\": [1.6, 0.0, 1.1, 0.0, 2.6, 0.6, 0.9], \"sizemode\": \"area\", \"sizeref\": 0.0006458333333333333}, \"mode\": \"markers\", \"text\": [\"0\", \"1\", \"0\", \"0\", \"1\", \"1\", \"1\"], \"x\": [120, 129, 120, 110, 150, 140, 144], \"y\": [219, 196, 244, 254, 243, 233, 200], \"type\": \"scatter\"}], \"name\": \"50\"}, {\"data\": [{\"marker\": {\"color\": [0, 1, 1, 0, 1, 0, 1], \"colorbar\": {\"title\": {\"text\": \"sex\"}}, \"size\": [2.6, 0.4, 2.3, 0.0, 0.0, 1.0, 0.1], \"sizemode\": \"area\", \"sizeref\": 0.0006458333333333333}, \"mode\": \"markers\", \"text\": [\"0\", \"1\", \"1\", \"0\", \"1\", \"0\", \"1\"], \"x\": [150, 120, 160, 146, 160, 178, 112], \"y\": [226, 302, 228, 278, 246, 228, 212], \"type\": \"scatter\"}], \"name\": \"66\"}, {\"data\": [{\"marker\": {\"color\": [1, 0, 1, 1, 1, 1, 0, 1], \"colorbar\": {\"title\": {\"text\": \"sex\"}}, \"size\": [1.5, 0.2, 1.9, 0.0, 1.2, 2.5, 3.0, 0.1], \"sizemode\": \"area\", \"sizeref\": 0.0006458333333333333}, \"mode\": \"markers\", \"text\": [\"1\", \"0\", \"1\", \"1\", \"1\", \"1\", \"0\", \"1\"], \"x\": [150, 122, 130, 110, 115, 120, 132, 132], \"y\": [247, 213, 315, 211, 303, 177, 341, 247], \"type\": \"scatter\"}], \"name\": \"43\"}, {\"data\": [{\"marker\": {\"color\": [0, 1, 1], \"colorbar\": {\"title\": {\"text\": \"sex\"}}, \"size\": [1.8, 0.1, 2.0], \"sizemode\": \"area\", \"sizeref\": 0.0006458333333333333}, \"mode\": \"markers\", \"text\": [\"0\", \"1\", \"1\"], \"x\": [140, 160, 140], \"y\": [239, 234, 254], \"type\": \"scatter\"}], \"name\": \"69\"}, {\"data\": [{\"marker\": {\"color\": [1, 1, 1, 1, 1, 1, 1, 1, 1, 0, 1, 1, 1, 1], \"colorbar\": {\"title\": {\"text\": \"sex\"}}, \"size\": [0.5, 1.6, 0.0, 4.2, 0.0, 3.4, 1.2, 0.0, 0.2, 0.0, 0.0, 2.2, 0.8, 1.0], \"sizemode\": \"area\", \"sizeref\": 0.0006458333333333333}, \"mode\": \"markers\", \"text\": [\"1\", \"1\", \"1\", \"1\", \"1\", \"1\", \"1\", \"1\", \"1\", \"0\", \"1\", \"1\", \"1\", \"1\"], \"x\": [135, 150, 140, 178, 138, 170, 110, 140, 170, 174, 160, 126, 134, 164], \"y\": [234, 212, 221, 270, 271, 326, 239, 177, 288, 249, 273, 218, 204, 176], \"type\": \"scatter\"}], \"name\": \"59\"}, {\"data\": [{\"marker\": {\"color\": [1, 0, 1, 1, 1, 0, 1, 1], \"colorbar\": {\"title\": {\"text\": \"sex\"}}, \"size\": [0.0, 0.6, 0.8, 0.8, 0.0, 0.0, 0.0, 1.8], \"sizemode\": \"area\", \"sizeref\": 0.0006458333333333333}, \"mode\": \"markers\", \"text\": [\"1\", \"0\", \"1\", \"1\", \"1\", \"0\", \"1\", \"1\"], \"x\": [140, 102, 148, 120, 120, 120, 130, 136], \"y\": [226, 265, 244, 240, 295, 209, 180, 315], \"type\": \"scatter\"}], \"name\": \"42\"}, {\"data\": [{\"marker\": {\"color\": [1, 0, 1, 0, 1, 1, 1, 1], \"colorbar\": {\"title\": {\"text\": \"sex\"}}, \"size\": [1.0, 0.0, 3.6, 1.0, 2.6, 3.6, 1.9, 0.0], \"sizemode\": \"area\", \"sizeref\": 0.0006458333333333333}, \"mode\": \"markers\", \"text\": [\"1\", \"0\", \"1\", \"0\", \"1\", \"1\", \"1\", \"1\"], \"x\": [150, 130, 120, 145, 134, 138, 140, 148], \"y\": [243, 330, 260, 307, 234, 166, 207, 203], \"type\": \"scatter\"}], \"name\": \"61\"}, {\"data\": [{\"marker\": {\"color\": [1, 1, 1], \"colorbar\": {\"title\": {\"text\": \"sex\"}}, \"size\": [1.4, 2.0, 0.0], \"sizemode\": \"area\", \"sizeref\": 0.0006458333333333333}, \"mode\": \"markers\", \"text\": [\"1\", \"1\", \"1\"], \"x\": [140, 110, 152], \"y\": [199, 167, 223], \"type\": \"scatter\"}], \"name\": \"40\"}, {\"data\": [{\"marker\": {\"color\": [0, 0, 0], \"colorbar\": {\"title\": {\"text\": \"sex\"}}, \"size\": [0.4, 0.0, 1.6], \"sizemode\": \"area\", \"sizeref\": 0.0006458333333333333}, \"mode\": \"markers\", \"text\": [\"0\", \"0\", \"0\"], \"x\": [160, 110, 112], \"y\": [302, 265, 149], \"type\": \"scatter\"}], \"name\": \"71\"}, {\"data\": [{\"marker\": {\"color\": [1, 1, 0, 0, 1, 1, 1, 1, 0, 0, 1, 1], \"colorbar\": {\"title\": {\"text\": \"sex\"}}, \"size\": [0.6, 1.4, 1.5, 0.5, 1.2, 0.0, 0.0, 2.4, 0.6, 1.2, 1.6, 4.2], \"sizemode\": \"area\", \"sizeref\": 0.0006458333333333333}, \"mode\": \"markers\", \"text\": [\"1\", \"1\", \"0\", \"0\", \"1\", \"1\", \"1\", \"1\", \"0\", \"0\", \"1\", \"1\"], \"x\": [110, 125, 140, 130, 100, 94, 140, 125, 120, 130, 140, 140], \"y\": [175, 213, 308, 256, 222, 227, 261, 245, 295, 305, 299, 298], \"type\": \"scatter\"}], \"name\": \"51\"}, {\"data\": [{\"marker\": {\"color\": [0, 1, 0, 0, 0, 1, 1, 1], \"colorbar\": {\"title\": {\"text\": \"sex\"}}, \"size\": [0.8, 0.4, 0.8, 0.8, 1.0, 0.6, 2.8, 1.4], \"sizemode\": \"area\", \"sizeref\": 0.0006458333333333333}, \"mode\": \"markers\", \"text\": [\"0\", \"1\", \"0\", \"0\", \"0\", \"1\", \"1\", \"1\"], \"x\": [140, 120, 155, 160, 150, 110, 135, 138], \"y\": [417, 177, 269, 360, 225, 248, 254, 282], \"type\": \"scatter\"}], \"name\": \"65\"}, {\"data\": [{\"marker\": {\"color\": [1, 0, 0, 0, 1, 1, 1, 1], \"colorbar\": {\"title\": {\"text\": \"sex\"}}, \"size\": [1.2, 0.4, 0.0, 0.0, 0.0, 0.0, 3.1, 2.0], \"sizemode\": \"area\", \"sizeref\": 0.0006458333333333333}, \"mode\": \"markers\", \"text\": [\"1\", \"0\", \"0\", \"0\", \"1\", \"1\", \"1\", \"1\"], \"x\": [130, 130, 128, 138, 142, 130, 140, 123], \"y\": [197, 264, 216, 234, 226, 246, 203, 282], \"type\": \"scatter\"}], \"name\": \"53\"}, {\"data\": [{\"marker\": {\"color\": [0, 1, 0, 0, 1, 1, 1], \"colorbar\": {\"title\": {\"text\": \"sex\"}}, \"size\": [1.4, 0.0, 0.0, 0.0, 3.6, 0.8, 1.8], \"sizemode\": \"area\", \"sizeref\": 0.0006458333333333333}, \"mode\": \"markers\", \"text\": [\"0\", \"1\", \"0\", \"0\", \"1\", \"1\", \"1\"], \"x\": [142, 101, 105, 138, 150, 120, 140], \"y\": [177, 197, 204, 243, 231, 249, 311], \"type\": \"scatter\"}], \"name\": \"46\"}, {\"data\": [{\"marker\": {\"color\": [1, 1, 0, 1, 0, 0, 1, 1], \"colorbar\": {\"title\": {\"text\": \"sex\"}}, \"size\": [3.0, 0.0, 0.6, 0.0, 0.0, 0.2, 0.0, 1.2], \"sizemode\": \"area\", \"sizeref\": 0.0006458333333333333}, \"mode\": \"markers\", \"text\": [\"1\", \"1\", \"0\", \"1\", \"0\", \"0\", \"1\", \"1\"], \"x\": [104, 115, 130, 128, 112, 138, 142, 110], \"y\": [208, 260, 234, 308, 160, 236, 309, 264], \"type\": \"scatter\"}], \"name\": \"45\"}, {\"data\": [{\"marker\": {\"color\": [1, 0, 0, 1], \"colorbar\": {\"title\": {\"text\": \"sex\"}}, \"size\": [0.0, 0.0, 0.0, 1.2], \"sizemode\": \"area\", \"sizeref\": 0.0006458333333333333}, \"mode\": \"markers\", \"text\": [\"1\", \"0\", \"0\", \"1\"], \"x\": [140, 94, 138, 118], \"y\": [321, 199, 220, 219], \"type\": \"scatter\"}], \"name\": \"39\"}, {\"data\": [{\"marker\": {\"color\": [1, 1, 1, 1, 1], \"colorbar\": {\"title\": {\"text\": \"sex\"}}, \"size\": [0.0, 0.1, 0.0, 0.0, 1.0], \"sizemode\": \"area\", \"sizeref\": 0.0006458333333333333}, \"mode\": \"markers\", \"text\": [\"1\", \"1\", \"1\", \"1\", \"1\"], \"x\": [138, 112, 130, 108, 110], \"y\": [257, 204, 253, 243, 275], \"type\": \"scatter\"}], \"name\": \"47\"}, {\"data\": [{\"marker\": {\"color\": [1, 0, 0, 1, 0, 1, 0, 0, 1, 0, 0], \"colorbar\": {\"title\": {\"text\": \"sex\"}}, \"size\": [1.8, 0.0, 1.2, 0.0, 3.6, 1.8, 6.2, 1.2, 1.4, 1.9, 1.4], \"sizemode\": \"area\", \"sizeref\": 0.0006458333333333333}, \"mode\": \"markers\", \"text\": [\"1\", \"0\", \"0\", \"1\", \"0\", \"1\", \"0\", \"0\", \"1\", \"0\", \"0\"], \"x\": [130, 124, 140, 128, 140, 120, 160, 130, 120, 138, 150], \"y\": [231, 209, 394, 208, 268, 267, 164, 263, 281, 294, 244], \"type\": \"scatter\"}], \"name\": \"62\"}, {\"data\": [{\"marker\": {\"color\": [1, 0], \"colorbar\": {\"title\": {\"text\": \"sex\"}}, \"size\": [0.0, 0.7], \"sizemode\": \"area\", \"sizeref\": 0.0006458333333333333}, \"mode\": \"markers\", \"text\": [\"1\", \"0\"], \"x\": [118, 118], \"y\": [182, 210], \"type\": \"scatter\"}], \"name\": \"34\"}, {\"data\": [{\"marker\": {\"color\": [0, 1, 1, 1], \"colorbar\": {\"title\": {\"text\": \"sex\"}}, \"size\": [1.4, 0.0, 1.6, 0.0], \"sizemode\": \"area\", \"sizeref\": 0.0006458333333333333}, \"mode\": \"markers\", \"text\": [\"0\", \"1\", \"1\", \"1\"], \"x\": [138, 122, 120, 126], \"y\": [183, 192, 198, 282], \"type\": \"scatter\"}], \"name\": \"35\"}, {\"data\": [{\"marker\": {\"color\": [1], \"colorbar\": {\"title\": {\"text\": \"sex\"}}, \"size\": [0.0], \"sizemode\": \"area\", \"sizeref\": 0.0006458333333333333}, \"mode\": \"markers\", \"text\": [\"1\"], \"x\": [130], \"y\": [204], \"type\": \"scatter\"}], \"name\": \"29\"}, {\"data\": [{\"marker\": {\"color\": [0, 1, 0, 1, 1, 1, 0, 0], \"colorbar\": {\"title\": {\"text\": \"sex\"}}, \"size\": [1.4, 0.0, 1.2, 1.2, 5.6, 0.8, 3.4, 2.0], \"sizemode\": \"area\", \"sizeref\": 0.0006458333333333333}, \"mode\": \"markers\", \"text\": [\"0\", \"1\", \"0\", \"1\", \"1\", \"1\", \"0\", \"0\"], \"x\": [135, 130, 132, 132, 140, 160, 180, 128], \"y\": [250, 262, 342, 353, 217, 289, 327, 205], \"type\": \"scatter\"}], \"name\": \"55\"}, {\"data\": [{\"marker\": {\"color\": [0, 0, 0, 1, 1, 1, 1, 1, 1, 0, 1], \"colorbar\": {\"title\": {\"text\": \"sex\"}}, \"size\": [0.0, 0.0, 0.9, 2.4, 1.4, 1.4, 2.8, 3.0, 2.8, 2.6, 1.2], \"sizemode\": \"area\", \"sizeref\": 0.0006458333333333333}, \"mode\": \"markers\", \"text\": [\"0\", \"0\", \"0\", \"1\", \"1\", \"1\", \"1\", \"1\", \"1\", \"0\", \"1\"], \"x\": [102, 120, 150, 130, 117, 130, 145, 140, 125, 150, 140], \"y\": [318, 178, 240, 206, 230, 253, 282, 185, 258, 258, 293], \"type\": \"scatter\"}], \"name\": \"60\"}, {\"data\": [{\"marker\": {\"color\": [0, 0, 0, 1, 1, 1, 1, 1, 1], \"colorbar\": {\"title\": {\"text\": \"sex\"}}, \"size\": [1.6, 0.0, 0.3, 1.5, 2.6, 0.2, 0.9, 1.0, 0.8], \"sizemode\": \"area\", \"sizeref\": 0.0006458333333333333}, \"mode\": \"markers\", \"text\": [\"0\", \"0\", \"0\", \"1\", \"1\", \"1\", \"1\", \"1\", \"1\"], \"x\": [115, 152, 106, 160, 120, 125, 100, 120, 152], \"y\": [564, 277, 223, 286, 229, 254, 299, 237, 212], \"type\": \"scatter\"}], \"name\": \"67\"}, {\"data\": [{\"marker\": {\"color\": [1, 0, 1, 1], \"colorbar\": {\"title\": {\"text\": \"sex\"}}, \"size\": [1.0, 1.5, 1.6, 3.4], \"sizemode\": \"area\", \"sizeref\": 0.0006458333333333333}, \"mode\": \"markers\", \"text\": [\"1\", \"0\", \"1\", \"1\"], \"x\": [118, 120, 180, 144], \"y\": [277, 211, 274, 193], \"type\": \"scatter\"}], \"name\": \"68\"}, {\"data\": [{\"marker\": {\"color\": [0], \"colorbar\": {\"title\": {\"text\": \"sex\"}}, \"size\": [0.2], \"sizemode\": \"area\", \"sizeref\": 0.0006458333333333333}, \"mode\": \"markers\", \"text\": [\"0\"], \"x\": [120], \"y\": [269], \"type\": \"scatter\"}], \"name\": \"74\"}, {\"data\": [{\"marker\": {\"color\": [0], \"colorbar\": {\"title\": {\"text\": \"sex\"}}, \"size\": [1.1], \"sizemode\": \"area\", \"sizeref\": 0.0006458333333333333}, \"mode\": \"markers\", \"text\": [\"0\"], \"x\": [140], \"y\": [197], \"type\": \"scatter\"}], \"name\": \"76\"}, {\"data\": [{\"marker\": {\"color\": [1, 1, 1, 1], \"colorbar\": {\"title\": {\"text\": \"sex\"}}, \"size\": [0.0, 2.6, 2.4, 2.9], \"sizemode\": \"area\", \"sizeref\": 0.0006458333333333333}, \"mode\": \"markers\", \"text\": [\"1\", \"1\", \"1\", \"1\"], \"x\": [156, 145, 130, 160], \"y\": [245, 174, 322, 269], \"type\": \"scatter\"}], \"name\": \"70\"}, {\"data\": [{\"marker\": {\"color\": [1, 1, 1], \"colorbar\": {\"title\": {\"text\": \"sex\"}}, \"size\": [0.0, 0.0, 3.8], \"sizemode\": \"area\", \"sizeref\": 0.0006458333333333333}, \"mode\": \"markers\", \"text\": [\"1\", \"1\", \"1\"], \"x\": [138, 138, 120], \"y\": [175, 175, 231], \"type\": \"scatter\"}], \"name\": \"38\"}, {\"data\": [{\"marker\": {\"color\": [1], \"colorbar\": {\"title\": {\"text\": \"sex\"}}, \"size\": [0.0], \"sizemode\": \"area\", \"sizeref\": 0.0006458333333333333}, \"mode\": \"markers\", \"text\": [\"1\"], \"x\": [125], \"y\": [304], \"type\": \"scatter\"}], \"name\": \"77\"}]);\n",
       "                        }).then(function(){\n",
       "                            Plotly.animate('1e581c9a-c933-4978-bc4c-8330b0b37f4a', null);\n",
       "                        }).then(function(){\n",
       "                            \n",
       "var gd = document.getElementById('1e581c9a-c933-4978-bc4c-8330b0b37f4a');\n",
       "var x = new MutationObserver(function (mutations, observer) {{\n",
       "        var display = window.getComputedStyle(gd).display;\n",
       "        if (!display || display === 'none') {{\n",
       "            console.log([gd, 'removed!']);\n",
       "            Plotly.purge(gd);\n",
       "            observer.disconnect();\n",
       "        }}\n",
       "}});\n",
       "\n",
       "// Listen for the removal of the full notebook cells\n",
       "var notebookContainer = gd.closest('#notebook-container');\n",
       "if (notebookContainer) {{\n",
       "    x.observe(notebookContainer, {childList: true});\n",
       "}}\n",
       "\n",
       "// Listen for the clearing of the current output cell\n",
       "var outputEl = gd.closest('.output');\n",
       "if (outputEl) {{\n",
       "    x.observe(outputEl, {childList: true});\n",
       "}}\n",
       "\n",
       "                        })\n",
       "                };\n",
       "                });\n",
       "            </script>\n",
       "        </div>"
      ]
     },
     "metadata": {},
     "output_type": "display_data"
    }
   ],
   "source": [
    "import plotly.offline as py\n",
    "from plotly.offline import init_notebook_mode, iplot\n",
    "import plotly.graph_objs as go\n",
    "init_notebook_mode(connected = True)\n",
    "from bubbly.bubbly import bubbleplot\n",
    "\n",
    "figure = bubbleplot(dataset = hv, x_column = 'trestbps', y_column = 'chol', \n",
    "    bubble_column = 'sex', time_column = 'age', size_column = 'oldpeak', color_column = 'sex', \n",
    "    x_title = \"Resting Blood Pressure\", y_title = \"Cholestrol\", title = 'BP vs Chol. vs Age vs Sex vs Heart Rate',\n",
    "                    colorbar_title='sex',\n",
    "    x_logscale = False, scale_bubble = 3, height = 650)\n",
    "iplot(figure, config={'scrollzoom': True})"
   ]
  },
  {
   "cell_type": "code",
   "execution_count": 7,
   "id": "cc0b147f",
   "metadata": {
    "scrolled": true
   },
   "outputs": [
    {
     "name": "stdout",
     "output_type": "stream",
     "text": [
      "<class 'pandas.core.frame.DataFrame'>\n",
      "RangeIndex: 303 entries, 0 to 302\n",
      "Data columns (total 14 columns):\n",
      " #   Column    Non-Null Count  Dtype  \n",
      "---  ------    --------------  -----  \n",
      " 0   age       303 non-null    int64  \n",
      " 1   sex       303 non-null    int64  \n",
      " 2   cp        303 non-null    int64  \n",
      " 3   trestbps  303 non-null    int64  \n",
      " 4   chol      303 non-null    int64  \n",
      " 5   fbs       303 non-null    int64  \n",
      " 6   restecg   303 non-null    int64  \n",
      " 7   thalach   303 non-null    int64  \n",
      " 8   exang     303 non-null    int64  \n",
      " 9   oldpeak   303 non-null    float64\n",
      " 10  slope     303 non-null    int64  \n",
      " 11  ca        303 non-null    int64  \n",
      " 12  thal      303 non-null    int64  \n",
      " 13  target    303 non-null    int64  \n",
      "dtypes: float64(1), int64(13)\n",
      "memory usage: 33.2 KB\n"
     ]
    }
   ],
   "source": [
    "# getting the information about the dataset\n",
    "hv.info()"
   ]
  },
  {
   "cell_type": "code",
   "execution_count": 8,
   "id": "e701f22d",
   "metadata": {},
   "outputs": [
    {
     "data": {
      "text/plain": [
       "age         0\n",
       "sex         0\n",
       "cp          0\n",
       "trestbps    0\n",
       "chol        0\n",
       "fbs         0\n",
       "restecg     0\n",
       "thalach     0\n",
       "exang       0\n",
       "oldpeak     0\n",
       "slope       0\n",
       "ca          0\n",
       "thal        0\n",
       "target      0\n",
       "dtype: int64"
      ]
     },
     "execution_count": 8,
     "metadata": {},
     "output_type": "execute_result"
    }
   ],
   "source": [
    "# displaying for null values\n",
    "hv.isnull().sum()"
   ]
  },
  {
   "cell_type": "code",
   "execution_count": 9,
   "id": "2d5ef92f",
   "metadata": {},
   "outputs": [
    {
     "data": {
      "text/plain": [
       "1    165\n",
       "0    138\n",
       "Name: target, dtype: int64"
      ]
     },
     "execution_count": 9,
     "metadata": {},
     "output_type": "execute_result"
    }
   ],
   "source": [
    "# getting statistical data on distribution of the target variable\n",
    "# 1 = defective heart\n",
    "# 0 = healthy heart\n",
    "hv['target'].value_counts()"
   ]
  },
  {
   "cell_type": "code",
   "execution_count": 10,
   "id": "4581f35a",
   "metadata": {},
   "outputs": [
    {
     "name": "stdout",
     "output_type": "stream",
     "text": [
      "     age  sex  cp  trestbps  chol  fbs  restecg  thalach  exang  oldpeak  \\\n",
      "0     63    1   3       145   233    1        0      150      0      2.3   \n",
      "1     37    1   2       130   250    0        1      187      0      3.5   \n",
      "2     41    0   1       130   204    0        0      172      0      1.4   \n",
      "3     56    1   1       120   236    0        1      178      0      0.8   \n",
      "4     57    0   0       120   354    0        1      163      1      0.6   \n",
      "..   ...  ...  ..       ...   ...  ...      ...      ...    ...      ...   \n",
      "298   57    0   0       140   241    0        1      123      1      0.2   \n",
      "299   45    1   3       110   264    0        1      132      0      1.2   \n",
      "300   68    1   0       144   193    1        1      141      0      3.4   \n",
      "301   57    1   0       130   131    0        1      115      1      1.2   \n",
      "302   57    0   1       130   236    0        0      174      0      0.0   \n",
      "\n",
      "     slope  ca  thal  \n",
      "0        0   0     1  \n",
      "1        0   0     2  \n",
      "2        2   0     2  \n",
      "3        2   0     2  \n",
      "4        2   0     2  \n",
      "..     ...  ..   ...  \n",
      "298      1   0     3  \n",
      "299      1   0     3  \n",
      "300      1   2     3  \n",
      "301      1   1     3  \n",
      "302      1   1     2  \n",
      "\n",
      "[303 rows x 13 columns]\n",
      "0      1\n",
      "1      1\n",
      "2      1\n",
      "3      1\n",
      "4      1\n",
      "      ..\n",
      "298    0\n",
      "299    0\n",
      "300    0\n",
      "301    0\n",
      "302    0\n",
      "Name: target, Length: 303, dtype: int64\n"
     ]
    }
   ],
   "source": [
    "X = hv.drop(columns='target', axis=1)\n",
    "Y =hv['target']\n",
    "print(X)\n",
    "print(Y)"
   ]
  },
  {
   "cell_type": "code",
   "execution_count": 11,
   "id": "5ccae6d5",
   "metadata": {},
   "outputs": [],
   "source": [
    "# SPLITTING THE DATA INTO TRAIN AND TEST DATA"
   ]
  },
  {
   "cell_type": "code",
   "execution_count": 12,
   "id": "1444b99c",
   "metadata": {},
   "outputs": [
    {
     "name": "stdout",
     "output_type": "stream",
     "text": [
      "(303, 13) (242, 13) (61, 13)\n"
     ]
    }
   ],
   "source": [
    "X_train,X_test,Y_train,Y_test = train_test_split(X, Y, test_size=0.2, random_state=0)\n",
    "print(X.shape, X_train.shape, X_test.shape)"
   ]
  },
  {
   "cell_type": "code",
   "execution_count": 13,
   "id": "03d43c61",
   "metadata": {},
   "outputs": [],
   "source": [
    "# MODEL TRAINING USING LOGISTIC REGRGRESSION MODEL FOR BINARY CLASSIFICATION"
   ]
  },
  {
   "cell_type": "code",
   "execution_count": 14,
   "id": "77a56591",
   "metadata": {},
   "outputs": [
    {
     "name": "stderr",
     "output_type": "stream",
     "text": [
      "C:\\Users\\pradeep\\anaconda\\lib\\site-packages\\sklearn\\linear_model\\_logistic.py:763: ConvergenceWarning:\n",
      "\n",
      "lbfgs failed to converge (status=1):\n",
      "STOP: TOTAL NO. of ITERATIONS REACHED LIMIT.\n",
      "\n",
      "Increase the number of iterations (max_iter) or scale the data as shown in:\n",
      "    https://scikit-learn.org/stable/modules/preprocessing.html\n",
      "Please also refer to the documentation for alternative solver options:\n",
      "    https://scikit-learn.org/stable/modules/linear_model.html#logistic-regression\n",
      "\n"
     ]
    },
    {
     "data": {
      "text/plain": [
       "LogisticRegression()"
      ]
     },
     "execution_count": 14,
     "metadata": {},
     "output_type": "execute_result"
    }
   ],
   "source": [
    "model = LogisticRegression()\n",
    "model.fit(X_train, Y_train) #finding the relation"
   ]
  },
  {
   "cell_type": "code",
   "execution_count": 15,
   "id": "0d2ac55b",
   "metadata": {},
   "outputs": [
    {
     "name": "stdout",
     "output_type": "stream",
     "text": [
      "ACCURACY IN THE TRAINING MODEL =   0.8553719008264463\n"
     ]
    }
   ],
   "source": [
    "# MODEL EVALUATION FOR ACCURACY\n",
    "X_train_prediction = model.predict(X_train)\n",
    "training_data_accuracy = accuracy_score(X_train_prediction, Y_train)\n",
    "print(\"ACCURACY IN THE TRAINING MODEL =  \",training_data_accuracy)"
   ]
  },
  {
   "cell_type": "code",
   "execution_count": 16,
   "id": "f0c7d934",
   "metadata": {},
   "outputs": [
    {
     "name": "stdout",
     "output_type": "stream",
     "text": [
      "ACCURACY IN THE TEST MODEL =   0.8524590163934426\n"
     ]
    }
   ],
   "source": [
    "# MODEL EVALUATION FOR ACCURACY\n",
    "X_test_prediction = model.predict(X_test)\n",
    "test_data_accuracy = accuracy_score(X_test_prediction, Y_test)\n",
    "print(\"ACCURACY IN THE TEST MODEL =  \",test_data_accuracy)"
   ]
  },
  {
   "cell_type": "code",
   "execution_count": 17,
   "id": "b49a0c81",
   "metadata": {},
   "outputs": [
    {
     "name": "stdout",
     "output_type": "stream",
     "text": [
      "[0]\n",
      "THE PERSON DOES NOT HAVE ANY HEART DISEASE \n",
      "\n"
     ]
    }
   ],
   "source": [
    "# BUILDING A PREDICTIVE SYSTEM\n",
    "input_data = (43,1,0,120,177,0,0,120,1,2.5,1,0,3)\n",
    "\n",
    "# CHANGING THE DATA INTO NUMPY ARRAY FOR SHAPING AND FILERING THE DATA\n",
    "input_data_as_numpy_array = np.asarray(input_data)\n",
    "\n",
    "# RESHAPING A NUMPY ARRAY FOR ONLY ONE DATA\n",
    "input_data_reshaped = input_data_as_numpy_array.reshape(1,-1)\n",
    "\n",
    "prediction = model.predict(input_data_reshaped)\n",
    "print(prediction)\n",
    "\n",
    "if (prediction[0]==0):\n",
    "    print(\"THE PERSON DOES NOT HAVE ANY HEART DISEASE \\n\")\n",
    "else:\n",
    "    print(\"THE PERSON HAS A HEART DISEASE \\n\")"
   ]
  },
  {
   "cell_type": "code",
   "execution_count": 18,
   "id": "b2916097",
   "metadata": {},
   "outputs": [
    {
     "data": {
      "text/plain": [
       "RandomForestClassifier()"
      ]
     },
     "execution_count": 18,
     "metadata": {},
     "output_type": "execute_result"
    }
   ],
   "source": [
    "#MODEL TRAINING USING RANDOM FOREST CLASSIFIER\n",
    "from sklearn.ensemble import RandomForestClassifier\n",
    "model = RandomForestClassifier(n_estimators=100) \n",
    "model.fit(X_train, Y_train) #finding the relation"
   ]
  },
  {
   "cell_type": "code",
   "execution_count": 19,
   "id": "ee0dc765",
   "metadata": {},
   "outputs": [
    {
     "name": "stdout",
     "output_type": "stream",
     "text": [
      "ACCURACY IN THE TRAINING MODEL =   1.0\n"
     ]
    }
   ],
   "source": [
    "#MODEL EVALUATION FOR ACCURACY\n",
    "X_train_prediction = model.predict(X_train)\n",
    "training_data_accuracy = accuracy_score(X_train_prediction, Y_train)\n",
    "print(\"ACCURACY IN THE TRAINING MODEL =  \",training_data_accuracy)"
   ]
  },
  {
   "cell_type": "code",
   "execution_count": 20,
   "id": "88891d17",
   "metadata": {},
   "outputs": [
    {
     "name": "stdout",
     "output_type": "stream",
     "text": [
      "ACCURACY IN THE TEST MODEL =   0.8360655737704918\n"
     ]
    }
   ],
   "source": [
    "# MODEL EVALUATION FOR ACCURACY\n",
    "X_test_prediction = model.predict(X_test)\n",
    "test_data_accuracy = accuracy_score(X_test_prediction, Y_test)\n",
    "print(\"ACCURACY IN THE TEST MODEL =  \",test_data_accuracy)\n"
   ]
  },
  {
   "cell_type": "code",
   "execution_count": 21,
   "id": "69ac8607",
   "metadata": {
    "scrolled": true
   },
   "outputs": [
    {
     "name": "stdout",
     "output_type": "stream",
     "text": [
      "[1]\n",
      "THE PERSON HAS A HEART DISEASE \n",
      "\n"
     ]
    }
   ],
   "source": [
    "# BUILDING A PREDICTIVE SYSTEM\n",
    "input_data = (41,0,1,130,204,0,0,172,0,1.4,2,0,2)\n",
    "\n",
    "\n",
    "# CHANGING THE DATA INTO NUMPY ARRAY FOR SHAPING AND FILERING THE DATA\n",
    "input_data_as_numpy_array = np.asarray(input_data)\n",
    "\n",
    "# RESHAPING A NUMPY ARRAY FOR ONLY ONE DATA\n",
    "input_data_reshaped = input_data_as_numpy_array.reshape(1,-1)\n",
    "\n",
    "prediction = model.predict(input_data_reshaped)\n",
    "print(prediction)\n",
    "\n",
    "if (prediction[0]==0):\n",
    "    print(\"THE PERSON DOES NOT HAVE ANY HEART DISEASE \\n\")\n",
    "else:\n",
    "    print(\"THE PERSON HAS A HEART DISEASE \\n\")"
   ]
  },
  {
   "cell_type": "code",
   "execution_count": 22,
   "id": "50c822e5",
   "metadata": {},
   "outputs": [
    {
     "data": {
      "image/png": "[encoded data removed]",
      "text/plain": [
       "<Figure size 432x288 with 1 Axes>"
      ]
     },
     "metadata": {
      "needs_background": "light"
     },
     "output_type": "display_data"
    }
   ],
   "source": [
    "#CONCLUSION\n",
    "import  matplotlib.pyplot as plt\n",
    "\n",
    "#creating the dataset\n",
    "data_bargraph= {'Logistic Regression':0.8524590163934426, 'Random Forest Classifier':0.8688524590163934}\n",
    "algorithms= list(data_bargraph.keys())\n",
    "scores= list(data_bargraph.values())\n",
    "        \n",
    "#creating the bar plot\n",
    "fig,ax=plt.subplots()\n",
    "ax.bar(algorithms, scores, color='maroon', width=0.2)\n",
    "ax.plot(algorithms,scores, color='black', marker='o')\n",
    "\n",
    "\n",
    "ax.set_title('Conclusion')\n",
    "ax.set_xlabel(\"Algorithms used\")\n",
    "ax.set_ylabel(\"Performance\")\n",
    "plt.show()\n"
   ]
  },
  {
   "cell_type": "code",
   "execution_count": null,
   "id": "a45822e3",
   "metadata": {},
   "outputs": [],
   "source": []
  },
  {
   "cell_type": "code",
   "execution_count": null,
   "id": "c2c76db5",
   "metadata": {},
   "outputs": [],
   "source": []
  },
  {
   "cell_type": "code",
   "execution_count": null,
   "id": "e0e92fdb",
   "metadata": {},
   "outputs": [],
   "source": []
  }
 ],
 "metadata": {
  "kernelspec": {
   "display_name": "Python 3 (ipykernel)",
   "language": "python",
   "name": "python3"
  },
  "language_info": {
   "codemirror_mode": {
    "name": "ipython",
    "version": 3
   },
   "file_extension": ".py",
   "mimetype": "text/x-python",
   "name": "python",
   "nbconvert_exporter": "python",
   "pygments_lexer": "ipython3",
   "version": "3.9.7"
  }
 },
 "nbformat": 4,
 "nbformat_minor": 5
}
